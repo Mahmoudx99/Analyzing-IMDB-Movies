{
  "cells": [
    {
      "cell_type": "markdown",
      "metadata": {
        "id": "oTbDK5ngBX0d"
      },
      "source": [
        "# Project: Movies Recommendation based on dataset TMDB - [tmdb-movies.csv]\n",
        "\n",
        "## Table of Contents\n",
        "<ul>\n",
        "<li><a href=\"#intro\">Introduction</a></li>\n",
        "<li><a href=\"#wrangling\">Data Wrangling</a></li>\n",
        "<li><a href=\"#eda\">Exploratory Data Analysis</a></li>\n",
        "<li><a href=\"#conclusions\">Conclusions</a></li>\n",
        "</ul>"
      ]
    },
    {
      "cell_type": "markdown",
      "metadata": {
        "id": "Y2GzX5oyBX0r"
      },
      "source": [
        "<a id='intro'></a>\n",
        "## Introduction\n",
        "\n",
        "### Dataset Description \n",
        "The Dataset Tmdb.csv includes film discreption since 1960. Each row contains:   \n",
        "imdb_id     \n",
        "popularity                 \n",
        "budget                     \n",
        "revenue                    \n",
        "original_title             \n",
        "cast                     \n",
        "homepage                \n",
        "director                  \n",
        "tagline                 \n",
        "keywords                \n",
        "overview                   \n",
        "runtime                    \n",
        "genres                    \n",
        "production_companies    \n",
        "release_date               \n",
        "vote_count                 \n",
        "vote_average               \n",
        "release_year               \n",
        "budget_adj                 \n",
        "revenue_adj  \n",
        "\n",
        "The total number of movies in the dataset are 10866 movies. some lack data but not so important in the analysis."
      ]
    },
    {
      "cell_type": "code",
      "execution_count": 1,
      "metadata": {
        "collapsed": true,
        "id": "ipVy3bWQBX0v"
      },
      "outputs": [],
      "source": [
        "# importing libiraries\n",
        "import pandas as pd\n",
        "import numpy as np \n",
        "import matplotlib.pyplot as plt\n",
        "%matplotlib inline"
      ]
    },
    {
      "cell_type": "markdown",
      "metadata": {
        "id": "WnCXXjs0BX1T"
      },
      "source": [
        "<a id='wrangling'></a>\n",
        "## Data Wrangling"
      ]
    },
    {
      "cell_type": "code",
      "execution_count": 2,
      "metadata": {
        "colab": {
          "base_uri": "https://localhost:8080/",
          "height": 643
        },
        "collapsed": true,
        "id": "j0buaPmMBX1V",
        "outputId": "f1a8f094-74f2-4cd0-d118-e0c61948fb20"
      },
      "outputs": [
        {
          "data": {
            "text/html": [
              "<div>\n",
              "<style scoped>\n",
              "    .dataframe tbody tr th:only-of-type {\n",
              "        vertical-align: middle;\n",
              "    }\n",
              "\n",
              "    .dataframe tbody tr th {\n",
              "        vertical-align: top;\n",
              "    }\n",
              "\n",
              "    .dataframe thead th {\n",
              "        text-align: right;\n",
              "    }\n",
              "</style>\n",
              "<table border=\"1\" class=\"dataframe\">\n",
              "  <thead>\n",
              "    <tr style=\"text-align: right;\">\n",
              "      <th></th>\n",
              "      <th>id</th>\n",
              "      <th>imdb_id</th>\n",
              "      <th>popularity</th>\n",
              "      <th>budget</th>\n",
              "      <th>revenue</th>\n",
              "      <th>original_title</th>\n",
              "      <th>cast</th>\n",
              "      <th>homepage</th>\n",
              "      <th>director</th>\n",
              "      <th>tagline</th>\n",
              "      <th>...</th>\n",
              "      <th>overview</th>\n",
              "      <th>runtime</th>\n",
              "      <th>genres</th>\n",
              "      <th>production_companies</th>\n",
              "      <th>release_date</th>\n",
              "      <th>vote_count</th>\n",
              "      <th>vote_average</th>\n",
              "      <th>release_year</th>\n",
              "      <th>budget_adj</th>\n",
              "      <th>revenue_adj</th>\n",
              "    </tr>\n",
              "  </thead>\n",
              "  <tbody>\n",
              "    <tr>\n",
              "      <th>0</th>\n",
              "      <td>135397</td>\n",
              "      <td>tt0369610</td>\n",
              "      <td>32.985763</td>\n",
              "      <td>150000000</td>\n",
              "      <td>1513528810</td>\n",
              "      <td>Jurassic World</td>\n",
              "      <td>Chris Pratt|Bryce Dallas Howard|Irrfan Khan|Vi...</td>\n",
              "      <td>http://www.jurassicworld.com/</td>\n",
              "      <td>Colin Trevorrow</td>\n",
              "      <td>The park is open.</td>\n",
              "      <td>...</td>\n",
              "      <td>Twenty-two years after the events of Jurassic ...</td>\n",
              "      <td>124</td>\n",
              "      <td>Action|Adventure|Science Fiction|Thriller</td>\n",
              "      <td>Universal Studios|Amblin Entertainment|Legenda...</td>\n",
              "      <td>6/9/15</td>\n",
              "      <td>5562</td>\n",
              "      <td>6.5</td>\n",
              "      <td>2015</td>\n",
              "      <td>1.379999e+08</td>\n",
              "      <td>1.392446e+09</td>\n",
              "    </tr>\n",
              "    <tr>\n",
              "      <th>1</th>\n",
              "      <td>76341</td>\n",
              "      <td>tt1392190</td>\n",
              "      <td>28.419936</td>\n",
              "      <td>150000000</td>\n",
              "      <td>378436354</td>\n",
              "      <td>Mad Max: Fury Road</td>\n",
              "      <td>Tom Hardy|Charlize Theron|Hugh Keays-Byrne|Nic...</td>\n",
              "      <td>http://www.madmaxmovie.com/</td>\n",
              "      <td>George Miller</td>\n",
              "      <td>What a Lovely Day.</td>\n",
              "      <td>...</td>\n",
              "      <td>An apocalyptic story set in the furthest reach...</td>\n",
              "      <td>120</td>\n",
              "      <td>Action|Adventure|Science Fiction|Thriller</td>\n",
              "      <td>Village Roadshow Pictures|Kennedy Miller Produ...</td>\n",
              "      <td>5/13/15</td>\n",
              "      <td>6185</td>\n",
              "      <td>7.1</td>\n",
              "      <td>2015</td>\n",
              "      <td>1.379999e+08</td>\n",
              "      <td>3.481613e+08</td>\n",
              "    </tr>\n",
              "    <tr>\n",
              "      <th>2</th>\n",
              "      <td>262500</td>\n",
              "      <td>tt2908446</td>\n",
              "      <td>13.112507</td>\n",
              "      <td>110000000</td>\n",
              "      <td>295238201</td>\n",
              "      <td>Insurgent</td>\n",
              "      <td>Shailene Woodley|Theo James|Kate Winslet|Ansel...</td>\n",
              "      <td>http://www.thedivergentseries.movie/#insurgent</td>\n",
              "      <td>Robert Schwentke</td>\n",
              "      <td>One Choice Can Destroy You</td>\n",
              "      <td>...</td>\n",
              "      <td>Beatrice Prior must confront her inner demons ...</td>\n",
              "      <td>119</td>\n",
              "      <td>Adventure|Science Fiction|Thriller</td>\n",
              "      <td>Summit Entertainment|Mandeville Films|Red Wago...</td>\n",
              "      <td>3/18/15</td>\n",
              "      <td>2480</td>\n",
              "      <td>6.3</td>\n",
              "      <td>2015</td>\n",
              "      <td>1.012000e+08</td>\n",
              "      <td>2.716190e+08</td>\n",
              "    </tr>\n",
              "    <tr>\n",
              "      <th>3</th>\n",
              "      <td>140607</td>\n",
              "      <td>tt2488496</td>\n",
              "      <td>11.173104</td>\n",
              "      <td>200000000</td>\n",
              "      <td>2068178225</td>\n",
              "      <td>Star Wars: The Force Awakens</td>\n",
              "      <td>Harrison Ford|Mark Hamill|Carrie Fisher|Adam D...</td>\n",
              "      <td>http://www.starwars.com/films/star-wars-episod...</td>\n",
              "      <td>J.J. Abrams</td>\n",
              "      <td>Every generation has a story.</td>\n",
              "      <td>...</td>\n",
              "      <td>Thirty years after defeating the Galactic Empi...</td>\n",
              "      <td>136</td>\n",
              "      <td>Action|Adventure|Science Fiction|Fantasy</td>\n",
              "      <td>Lucasfilm|Truenorth Productions|Bad Robot</td>\n",
              "      <td>12/15/15</td>\n",
              "      <td>5292</td>\n",
              "      <td>7.5</td>\n",
              "      <td>2015</td>\n",
              "      <td>1.839999e+08</td>\n",
              "      <td>1.902723e+09</td>\n",
              "    </tr>\n",
              "    <tr>\n",
              "      <th>4</th>\n",
              "      <td>168259</td>\n",
              "      <td>tt2820852</td>\n",
              "      <td>9.335014</td>\n",
              "      <td>190000000</td>\n",
              "      <td>1506249360</td>\n",
              "      <td>Furious 7</td>\n",
              "      <td>Vin Diesel|Paul Walker|Jason Statham|Michelle ...</td>\n",
              "      <td>http://www.furious7.com/</td>\n",
              "      <td>James Wan</td>\n",
              "      <td>Vengeance Hits Home</td>\n",
              "      <td>...</td>\n",
              "      <td>Deckard Shaw seeks revenge against Dominic Tor...</td>\n",
              "      <td>137</td>\n",
              "      <td>Action|Crime|Thriller</td>\n",
              "      <td>Universal Pictures|Original Film|Media Rights ...</td>\n",
              "      <td>4/1/15</td>\n",
              "      <td>2947</td>\n",
              "      <td>7.3</td>\n",
              "      <td>2015</td>\n",
              "      <td>1.747999e+08</td>\n",
              "      <td>1.385749e+09</td>\n",
              "    </tr>\n",
              "  </tbody>\n",
              "</table>\n",
              "<p>5 rows × 21 columns</p>\n",
              "</div>"
            ],
            "text/plain": [
              "       id    imdb_id  popularity     budget     revenue  \\\n",
              "0  135397  tt0369610   32.985763  150000000  1513528810   \n",
              "1   76341  tt1392190   28.419936  150000000   378436354   \n",
              "2  262500  tt2908446   13.112507  110000000   295238201   \n",
              "3  140607  tt2488496   11.173104  200000000  2068178225   \n",
              "4  168259  tt2820852    9.335014  190000000  1506249360   \n",
              "\n",
              "                 original_title  \\\n",
              "0                Jurassic World   \n",
              "1            Mad Max: Fury Road   \n",
              "2                     Insurgent   \n",
              "3  Star Wars: The Force Awakens   \n",
              "4                     Furious 7   \n",
              "\n",
              "                                                cast  \\\n",
              "0  Chris Pratt|Bryce Dallas Howard|Irrfan Khan|Vi...   \n",
              "1  Tom Hardy|Charlize Theron|Hugh Keays-Byrne|Nic...   \n",
              "2  Shailene Woodley|Theo James|Kate Winslet|Ansel...   \n",
              "3  Harrison Ford|Mark Hamill|Carrie Fisher|Adam D...   \n",
              "4  Vin Diesel|Paul Walker|Jason Statham|Michelle ...   \n",
              "\n",
              "                                            homepage          director  \\\n",
              "0                      http://www.jurassicworld.com/   Colin Trevorrow   \n",
              "1                        http://www.madmaxmovie.com/     George Miller   \n",
              "2     http://www.thedivergentseries.movie/#insurgent  Robert Schwentke   \n",
              "3  http://www.starwars.com/films/star-wars-episod...       J.J. Abrams   \n",
              "4                           http://www.furious7.com/         James Wan   \n",
              "\n",
              "                         tagline  ...  \\\n",
              "0              The park is open.  ...   \n",
              "1             What a Lovely Day.  ...   \n",
              "2     One Choice Can Destroy You  ...   \n",
              "3  Every generation has a story.  ...   \n",
              "4            Vengeance Hits Home  ...   \n",
              "\n",
              "                                            overview runtime  \\\n",
              "0  Twenty-two years after the events of Jurassic ...     124   \n",
              "1  An apocalyptic story set in the furthest reach...     120   \n",
              "2  Beatrice Prior must confront her inner demons ...     119   \n",
              "3  Thirty years after defeating the Galactic Empi...     136   \n",
              "4  Deckard Shaw seeks revenge against Dominic Tor...     137   \n",
              "\n",
              "                                      genres  \\\n",
              "0  Action|Adventure|Science Fiction|Thriller   \n",
              "1  Action|Adventure|Science Fiction|Thriller   \n",
              "2         Adventure|Science Fiction|Thriller   \n",
              "3   Action|Adventure|Science Fiction|Fantasy   \n",
              "4                      Action|Crime|Thriller   \n",
              "\n",
              "                                production_companies release_date vote_count  \\\n",
              "0  Universal Studios|Amblin Entertainment|Legenda...       6/9/15       5562   \n",
              "1  Village Roadshow Pictures|Kennedy Miller Produ...      5/13/15       6185   \n",
              "2  Summit Entertainment|Mandeville Films|Red Wago...      3/18/15       2480   \n",
              "3          Lucasfilm|Truenorth Productions|Bad Robot     12/15/15       5292   \n",
              "4  Universal Pictures|Original Film|Media Rights ...       4/1/15       2947   \n",
              "\n",
              "   vote_average  release_year    budget_adj   revenue_adj  \n",
              "0           6.5          2015  1.379999e+08  1.392446e+09  \n",
              "1           7.1          2015  1.379999e+08  3.481613e+08  \n",
              "2           6.3          2015  1.012000e+08  2.716190e+08  \n",
              "3           7.5          2015  1.839999e+08  1.902723e+09  \n",
              "4           7.3          2015  1.747999e+08  1.385749e+09  \n",
              "\n",
              "[5 rows x 21 columns]"
            ]
          },
          "execution_count": 2,
          "metadata": {},
          "output_type": "execute_result"
        }
      ],
      "source": [
        "# Load data and print out a few lines. Perform operations to inspect data\n",
        "#   types and look for instances of missing or possibly errant data.\n",
        "df = pd.read_csv('tmdb-movies.csv')\n",
        "df.head()"
      ]
    },
    {
      "cell_type": "code",
      "execution_count": 3,
      "metadata": {},
      "outputs": [
        {
          "data": {
            "text/plain": [
              "(10866, 21)"
            ]
          },
          "execution_count": 3,
          "metadata": {},
          "output_type": "execute_result"
        }
      ],
      "source": [
        "df.shape"
      ]
    },
    {
      "cell_type": "code",
      "execution_count": 4,
      "metadata": {},
      "outputs": [
        {
          "name": "stdout",
          "output_type": "stream",
          "text": [
            "<class 'pandas.core.frame.DataFrame'>\n",
            "RangeIndex: 10866 entries, 0 to 10865\n",
            "Data columns (total 21 columns):\n",
            " #   Column                Non-Null Count  Dtype  \n",
            "---  ------                --------------  -----  \n",
            " 0   id                    10866 non-null  int64  \n",
            " 1   imdb_id               10856 non-null  object \n",
            " 2   popularity            10866 non-null  float64\n",
            " 3   budget                10866 non-null  int64  \n",
            " 4   revenue               10866 non-null  int64  \n",
            " 5   original_title        10866 non-null  object \n",
            " 6   cast                  10790 non-null  object \n",
            " 7   homepage              2936 non-null   object \n",
            " 8   director              10822 non-null  object \n",
            " 9   tagline               8042 non-null   object \n",
            " 10  keywords              9373 non-null   object \n",
            " 11  overview              10862 non-null  object \n",
            " 12  runtime               10866 non-null  int64  \n",
            " 13  genres                10843 non-null  object \n",
            " 14  production_companies  9836 non-null   object \n",
            " 15  release_date          10866 non-null  object \n",
            " 16  vote_count            10866 non-null  int64  \n",
            " 17  vote_average          10866 non-null  float64\n",
            " 18  release_year          10866 non-null  int64  \n",
            " 19  budget_adj            10866 non-null  float64\n",
            " 20  revenue_adj           10866 non-null  float64\n",
            "dtypes: float64(4), int64(6), object(11)\n",
            "memory usage: 1.7+ MB\n"
          ]
        }
      ],
      "source": [
        "df.info()"
      ]
    },
    {
      "cell_type": "markdown",
      "metadata": {
        "id": "FPjjX9ykBX1Y"
      },
      "source": [
        "\n",
        "### Data Cleaning"
      ]
    },
    {
      "cell_type": "code",
      "execution_count": 5,
      "metadata": {
        "colab": {
          "base_uri": "https://localhost:8080/"
        },
        "id": "4AH4wqukBX1b",
        "outputId": "3f3d41c8-b8f7-41f1-8b58-06f5d37c2ca1"
      },
      "outputs": [
        {
          "data": {
            "text/plain": [
              "id                         0\n",
              "imdb_id                   10\n",
              "popularity                 0\n",
              "budget                     0\n",
              "revenue                    0\n",
              "original_title             0\n",
              "cast                      76\n",
              "homepage                7930\n",
              "director                  44\n",
              "tagline                 2824\n",
              "keywords                1493\n",
              "overview                   4\n",
              "runtime                    0\n",
              "genres                    23\n",
              "production_companies    1030\n",
              "release_date               0\n",
              "vote_count                 0\n",
              "vote_average               0\n",
              "release_year               0\n",
              "budget_adj                 0\n",
              "revenue_adj                0\n",
              "dtype: int64"
            ]
          },
          "execution_count": 5,
          "metadata": {},
          "output_type": "execute_result"
        }
      ],
      "source": [
        "df.isnull().sum()"
      ]
    },
    {
      "cell_type": "code",
      "execution_count": 6,
      "metadata": {
        "colab": {
          "base_uri": "https://localhost:8080/"
        },
        "id": "SDRbmds0BX1e",
        "outputId": "596daae3-4c27-47a8-9a44-501b13a4d822"
      },
      "outputs": [
        {
          "data": {
            "text/plain": [
              "1"
            ]
          },
          "execution_count": 6,
          "metadata": {},
          "output_type": "execute_result"
        }
      ],
      "source": [
        "df.duplicated().sum()"
      ]
    },
    {
      "cell_type": "code",
      "execution_count": 7,
      "metadata": {},
      "outputs": [
        {
          "data": {
            "text/html": [
              "<div>\n",
              "<style scoped>\n",
              "    .dataframe tbody tr th:only-of-type {\n",
              "        vertical-align: middle;\n",
              "    }\n",
              "\n",
              "    .dataframe tbody tr th {\n",
              "        vertical-align: top;\n",
              "    }\n",
              "\n",
              "    .dataframe thead th {\n",
              "        text-align: right;\n",
              "    }\n",
              "</style>\n",
              "<table border=\"1\" class=\"dataframe\">\n",
              "  <thead>\n",
              "    <tr style=\"text-align: right;\">\n",
              "      <th></th>\n",
              "      <th>id</th>\n",
              "      <th>imdb_id</th>\n",
              "      <th>popularity</th>\n",
              "      <th>budget</th>\n",
              "      <th>revenue</th>\n",
              "      <th>original_title</th>\n",
              "      <th>cast</th>\n",
              "      <th>homepage</th>\n",
              "      <th>director</th>\n",
              "      <th>tagline</th>\n",
              "      <th>...</th>\n",
              "      <th>overview</th>\n",
              "      <th>runtime</th>\n",
              "      <th>genres</th>\n",
              "      <th>production_companies</th>\n",
              "      <th>release_date</th>\n",
              "      <th>vote_count</th>\n",
              "      <th>vote_average</th>\n",
              "      <th>release_year</th>\n",
              "      <th>budget_adj</th>\n",
              "      <th>revenue_adj</th>\n",
              "    </tr>\n",
              "  </thead>\n",
              "  <tbody>\n",
              "    <tr>\n",
              "      <th>2090</th>\n",
              "      <td>42194</td>\n",
              "      <td>tt0411951</td>\n",
              "      <td>0.59643</td>\n",
              "      <td>30000000</td>\n",
              "      <td>967000</td>\n",
              "      <td>TEKKEN</td>\n",
              "      <td>Jon Foo|Kelly Overton|Cary-Hiroyuki Tagawa|Ian...</td>\n",
              "      <td>NaN</td>\n",
              "      <td>Dwight H. Little</td>\n",
              "      <td>Survival is no game</td>\n",
              "      <td>...</td>\n",
              "      <td>In the year of 2039, after World Wars destroy ...</td>\n",
              "      <td>92</td>\n",
              "      <td>Crime|Drama|Action|Thriller|Science Fiction</td>\n",
              "      <td>Namco|Light Song Films</td>\n",
              "      <td>3/20/10</td>\n",
              "      <td>110</td>\n",
              "      <td>5.0</td>\n",
              "      <td>2010</td>\n",
              "      <td>30000000.0</td>\n",
              "      <td>967000.0</td>\n",
              "    </tr>\n",
              "  </tbody>\n",
              "</table>\n",
              "<p>1 rows × 21 columns</p>\n",
              "</div>"
            ],
            "text/plain": [
              "         id    imdb_id  popularity    budget  revenue original_title  \\\n",
              "2090  42194  tt0411951     0.59643  30000000   967000         TEKKEN   \n",
              "\n",
              "                                                   cast homepage  \\\n",
              "2090  Jon Foo|Kelly Overton|Cary-Hiroyuki Tagawa|Ian...      NaN   \n",
              "\n",
              "              director              tagline  ...  \\\n",
              "2090  Dwight H. Little  Survival is no game  ...   \n",
              "\n",
              "                                               overview runtime  \\\n",
              "2090  In the year of 2039, after World Wars destroy ...      92   \n",
              "\n",
              "                                           genres    production_companies  \\\n",
              "2090  Crime|Drama|Action|Thriller|Science Fiction  Namco|Light Song Films   \n",
              "\n",
              "     release_date vote_count  vote_average  release_year  budget_adj  \\\n",
              "2090      3/20/10        110           5.0          2010  30000000.0   \n",
              "\n",
              "      revenue_adj  \n",
              "2090     967000.0  \n",
              "\n",
              "[1 rows x 21 columns]"
            ]
          },
          "execution_count": 7,
          "metadata": {},
          "output_type": "execute_result"
        }
      ],
      "source": [
        "df[df.duplicated()]"
      ]
    },
    {
      "cell_type": "code",
      "execution_count": 8,
      "metadata": {},
      "outputs": [
        {
          "data": {
            "text/html": [
              "<div>\n",
              "<style scoped>\n",
              "    .dataframe tbody tr th:only-of-type {\n",
              "        vertical-align: middle;\n",
              "    }\n",
              "\n",
              "    .dataframe tbody tr th {\n",
              "        vertical-align: top;\n",
              "    }\n",
              "\n",
              "    .dataframe thead th {\n",
              "        text-align: right;\n",
              "    }\n",
              "</style>\n",
              "<table border=\"1\" class=\"dataframe\">\n",
              "  <thead>\n",
              "    <tr style=\"text-align: right;\">\n",
              "      <th></th>\n",
              "      <th>id</th>\n",
              "      <th>imdb_id</th>\n",
              "      <th>popularity</th>\n",
              "      <th>budget</th>\n",
              "      <th>revenue</th>\n",
              "      <th>original_title</th>\n",
              "      <th>cast</th>\n",
              "      <th>homepage</th>\n",
              "      <th>director</th>\n",
              "      <th>tagline</th>\n",
              "      <th>...</th>\n",
              "      <th>overview</th>\n",
              "      <th>runtime</th>\n",
              "      <th>genres</th>\n",
              "      <th>production_companies</th>\n",
              "      <th>release_date</th>\n",
              "      <th>vote_count</th>\n",
              "      <th>vote_average</th>\n",
              "      <th>release_year</th>\n",
              "      <th>budget_adj</th>\n",
              "      <th>revenue_adj</th>\n",
              "    </tr>\n",
              "  </thead>\n",
              "  <tbody>\n",
              "    <tr>\n",
              "      <th>2089</th>\n",
              "      <td>42194</td>\n",
              "      <td>tt0411951</td>\n",
              "      <td>0.59643</td>\n",
              "      <td>30000000</td>\n",
              "      <td>967000</td>\n",
              "      <td>TEKKEN</td>\n",
              "      <td>Jon Foo|Kelly Overton|Cary-Hiroyuki Tagawa|Ian...</td>\n",
              "      <td>NaN</td>\n",
              "      <td>Dwight H. Little</td>\n",
              "      <td>Survival is no game</td>\n",
              "      <td>...</td>\n",
              "      <td>In the year of 2039, after World Wars destroy ...</td>\n",
              "      <td>92</td>\n",
              "      <td>Crime|Drama|Action|Thriller|Science Fiction</td>\n",
              "      <td>Namco|Light Song Films</td>\n",
              "      <td>3/20/10</td>\n",
              "      <td>110</td>\n",
              "      <td>5.0</td>\n",
              "      <td>2010</td>\n",
              "      <td>30000000.0</td>\n",
              "      <td>967000.0</td>\n",
              "    </tr>\n",
              "    <tr>\n",
              "      <th>2090</th>\n",
              "      <td>42194</td>\n",
              "      <td>tt0411951</td>\n",
              "      <td>0.59643</td>\n",
              "      <td>30000000</td>\n",
              "      <td>967000</td>\n",
              "      <td>TEKKEN</td>\n",
              "      <td>Jon Foo|Kelly Overton|Cary-Hiroyuki Tagawa|Ian...</td>\n",
              "      <td>NaN</td>\n",
              "      <td>Dwight H. Little</td>\n",
              "      <td>Survival is no game</td>\n",
              "      <td>...</td>\n",
              "      <td>In the year of 2039, after World Wars destroy ...</td>\n",
              "      <td>92</td>\n",
              "      <td>Crime|Drama|Action|Thriller|Science Fiction</td>\n",
              "      <td>Namco|Light Song Films</td>\n",
              "      <td>3/20/10</td>\n",
              "      <td>110</td>\n",
              "      <td>5.0</td>\n",
              "      <td>2010</td>\n",
              "      <td>30000000.0</td>\n",
              "      <td>967000.0</td>\n",
              "    </tr>\n",
              "  </tbody>\n",
              "</table>\n",
              "<p>2 rows × 21 columns</p>\n",
              "</div>"
            ],
            "text/plain": [
              "         id    imdb_id  popularity    budget  revenue original_title  \\\n",
              "2089  42194  tt0411951     0.59643  30000000   967000         TEKKEN   \n",
              "2090  42194  tt0411951     0.59643  30000000   967000         TEKKEN   \n",
              "\n",
              "                                                   cast homepage  \\\n",
              "2089  Jon Foo|Kelly Overton|Cary-Hiroyuki Tagawa|Ian...      NaN   \n",
              "2090  Jon Foo|Kelly Overton|Cary-Hiroyuki Tagawa|Ian...      NaN   \n",
              "\n",
              "              director              tagline  ...  \\\n",
              "2089  Dwight H. Little  Survival is no game  ...   \n",
              "2090  Dwight H. Little  Survival is no game  ...   \n",
              "\n",
              "                                               overview runtime  \\\n",
              "2089  In the year of 2039, after World Wars destroy ...      92   \n",
              "2090  In the year of 2039, after World Wars destroy ...      92   \n",
              "\n",
              "                                           genres    production_companies  \\\n",
              "2089  Crime|Drama|Action|Thriller|Science Fiction  Namco|Light Song Films   \n",
              "2090  Crime|Drama|Action|Thriller|Science Fiction  Namco|Light Song Films   \n",
              "\n",
              "     release_date vote_count  vote_average  release_year  budget_adj  \\\n",
              "2089      3/20/10        110           5.0          2010  30000000.0   \n",
              "2090      3/20/10        110           5.0          2010  30000000.0   \n",
              "\n",
              "      revenue_adj  \n",
              "2089     967000.0  \n",
              "2090     967000.0  \n",
              "\n",
              "[2 rows x 21 columns]"
            ]
          },
          "execution_count": 8,
          "metadata": {},
          "output_type": "execute_result"
        }
      ],
      "source": [
        "df.loc[df['id'] == df[df.duplicated()]['id'].values[0]]"
      ]
    },
    {
      "cell_type": "markdown",
      "metadata": {
        "id": "YswVV6e_BX1g"
      },
      "source": [
        "The dataset contains only one duplicate. we can use the following code."
      ]
    },
    {
      "cell_type": "code",
      "execution_count": 9,
      "metadata": {
        "id": "Cdf_f4JgBX1h"
      },
      "outputs": [],
      "source": [
        "df.drop_duplicates(subset=None, keep='first', inplace=True, ignore_index=False)"
      ]
    },
    {
      "cell_type": "code",
      "execution_count": 10,
      "metadata": {},
      "outputs": [
        {
          "data": {
            "text/plain": [
              "0"
            ]
          },
          "execution_count": 10,
          "metadata": {},
          "output_type": "execute_result"
        }
      ],
      "source": [
        "df.duplicated().sum()"
      ]
    },
    {
      "cell_type": "markdown",
      "metadata": {
        "id": "aTo6fy_zBX1i"
      },
      "source": [
        "<a id='eda'></a>\n",
        "## Exploratory Data Analysis\n",
        "\n",
        "### Research Question 1 (What are the top 10 best rated movies? )"
      ]
    },
    {
      "cell_type": "markdown",
      "metadata": {
        "id": "XRYU0Dj4BX1i"
      },
      "source": [
        "Demographic Filtering: I used the equation that calculate the likability of recommending a certain movie based on score that come from a weighted ranking calculated by the following equation.\n",
        "We can use the average ratings of the movie as the score but using this won't be fair enough since a movie with 8.9 average rating and only 3 votes cannot be considered better than the movie with 7.8 as as average rating but 40 votes. So, I'll be using IMDB's weighted rating (wr) which is given as :-\n",
        "\n",
        "where,\n",
        "\n",
        "    v is the number of votes for the movie;\n",
        "    R is the average rating of the movie; And\n",
        "    C is the shrink term as a function of the vote count\n",
        "weighted rating = (v/(v+C) * R))"
      ]
    },
    {
      "cell_type": "code",
      "execution_count": 11,
      "metadata": {
        "id": "mARSsPKBBX1k"
      },
      "outputs": [
        {
          "data": {
            "text/plain": [
              "12.0"
            ]
          },
          "execution_count": 11,
          "metadata": {},
          "output_type": "execute_result"
        }
      ],
      "source": [
        "C= df['vote_count'].quantile(0.1)\n",
        "C"
      ]
    },
    {
      "cell_type": "code",
      "execution_count": 12,
      "metadata": {
        "id": "VQNewYP3BX1l"
      },
      "outputs": [],
      "source": [
        "q_movies = df.loc[df['vote_count'] >= C]"
      ]
    },
    {
      "cell_type": "code",
      "execution_count": 13,
      "metadata": {},
      "outputs": [
        {
          "name": "stdout",
          "output_type": "stream",
          "text": [
            "<class 'pandas.core.frame.DataFrame'>\n",
            "Int64Index: 9890 entries, 0 to 10865\n",
            "Data columns (total 21 columns):\n",
            " #   Column                Non-Null Count  Dtype  \n",
            "---  ------                --------------  -----  \n",
            " 0   id                    9890 non-null   int64  \n",
            " 1   imdb_id               9884 non-null   object \n",
            " 2   popularity            9890 non-null   float64\n",
            " 3   budget                9890 non-null   int64  \n",
            " 4   revenue               9890 non-null   int64  \n",
            " 5   original_title        9890 non-null   object \n",
            " 6   cast                  9829 non-null   object \n",
            " 7   homepage              2756 non-null   object \n",
            " 8   director              9860 non-null   object \n",
            " 9   tagline               7538 non-null   object \n",
            " 10  keywords              8676 non-null   object \n",
            " 11  overview              9886 non-null   object \n",
            " 12  runtime               9890 non-null   int64  \n",
            " 13  genres                9874 non-null   object \n",
            " 14  production_companies  9082 non-null   object \n",
            " 15  release_date          9890 non-null   object \n",
            " 16  vote_count            9890 non-null   int64  \n",
            " 17  vote_average          9890 non-null   float64\n",
            " 18  release_year          9890 non-null   int64  \n",
            " 19  budget_adj            9890 non-null   float64\n",
            " 20  revenue_adj           9890 non-null   float64\n",
            "dtypes: float64(4), int64(6), object(11)\n",
            "memory usage: 1.7+ MB\n"
          ]
        }
      ],
      "source": [
        "q_movies.info()"
      ]
    },
    {
      "cell_type": "code",
      "execution_count": 14,
      "metadata": {
        "id": "at-hkunpBX1n"
      },
      "outputs": [],
      "source": [
        "def weighted_rating(x, C=C):\n",
        "    v = x['vote_count']\n",
        "    R = x['vote_average']\n",
        "    # Calculation based on the IMDB formula\n",
        "    return (v/(v+C) * R)"
      ]
    },
    {
      "cell_type": "code",
      "execution_count": 15,
      "metadata": {},
      "outputs": [
        {
          "data": {
            "text/plain": [
              "id                                                                   9400\n",
              "imdb_id                                                         tt0117603\n",
              "popularity                                                       0.693264\n",
              "budget                                                            9000000\n",
              "revenue                                                          41590886\n",
              "original_title                                                Set  It Off\n",
              "cast                    Jada Pinkett Smith|Queen Latifah|Vivica A. Fox...\n",
              "homepage                  http://www.newline.com/properties/setitoff.html\n",
              "director                                                     F. Gary Gray\n",
              "tagline                 It's about crime. It's about payback. It's abo...\n",
              "keywords                single parent|bank robber|last chance|los angeles\n",
              "overview                Four Black women, all of whom have suffered fo...\n",
              "runtime                                                               118\n",
              "genres                                                 Drama|Action|Crime\n",
              "production_companies                                      New Line Cinema\n",
              "release_date                                                      11/6/96\n",
              "vote_count                                                             37\n",
              "vote_average                                                          7.0\n",
              "release_year                                                         1996\n",
              "budget_adj                                                12511950.650642\n",
              "revenue_adj                                               57820345.905388\n",
              "Name: 8510, dtype: object"
            ]
          },
          "execution_count": 15,
          "metadata": {},
          "output_type": "execute_result"
        }
      ],
      "source": [
        "q_movies.iloc[np.random.randint(q_movies.shape[0])]"
      ]
    },
    {
      "cell_type": "code",
      "execution_count": 16,
      "metadata": {
        "colab": {
          "base_uri": "https://localhost:8080/"
        },
        "id": "st3veISsBX1p",
        "outputId": "1dea1ac2-d4dd-43f9-d03a-09a662cf8cb5"
      },
      "outputs": [
        {
          "name": "stdout",
          "output_type": "stream",
          "text": [
            "id: 5871, weigted rating: 5.1, adjusted weighted rating 2.55\n"
          ]
        }
      ],
      "source": [
        "#try ID of random movie to see the score\n",
        "id = np.random.randint(q_movies.shape[0])\n",
        "print('id: {0}, weigted rating: {1}, adjusted weighted rating {2}'.format(id, q_movies.iloc[id]['vote_average'], weighted_rating(q_movies.iloc[id])))"
      ]
    },
    {
      "cell_type": "code",
      "execution_count": 17,
      "metadata": {
        "colab": {
          "base_uri": "https://localhost:8080/",
          "height": 643
        },
        "id": "yKXeY3fQBX1q",
        "outputId": "0eba67b4-baad-44ae-aeae-fa75dba4783c"
      },
      "outputs": [
        {
          "name": "stderr",
          "output_type": "stream",
          "text": [
            "C:\\Users\\muham\\AppData\\Local\\Temp/ipykernel_12464/2972981863.py:2: SettingWithCopyWarning: \n",
            "A value is trying to be set on a copy of a slice from a DataFrame.\n",
            "Try using .loc[row_indexer,col_indexer] = value instead\n",
            "\n",
            "See the caveats in the documentation: https://pandas.pydata.org/pandas-docs/stable/user_guide/indexing.html#returning-a-view-versus-a-copy\n",
            "  q_movies['score'] = q_movies.apply(weighted_rating, axis=1)\n"
          ]
        }
      ],
      "source": [
        "# Define a new feature 'score' and calculate its value with `weighted_rating()`\n",
        "q_movies['score'] = q_movies.apply(weighted_rating, axis=1)\n",
        "df['score'] = df.apply(weighted_rating, axis=1)"
      ]
    },
    {
      "cell_type": "markdown",
      "metadata": {
        "id": "9fwT3eKyBX1r"
      },
      "source": [
        "now after calculating the score we can sort the score of each movie "
      ]
    },
    {
      "cell_type": "code",
      "execution_count": 18,
      "metadata": {
        "colab": {
          "base_uri": "https://localhost:8080/",
          "height": 206
        },
        "id": "1oapIM8ZBX1r",
        "outputId": "04e6529a-6770-4f6c-d485-cf73f4efc5df"
      },
      "outputs": [
        {
          "data": {
            "text/html": [
              "<div>\n",
              "<style scoped>\n",
              "    .dataframe tbody tr th:only-of-type {\n",
              "        vertical-align: middle;\n",
              "    }\n",
              "\n",
              "    .dataframe tbody tr th {\n",
              "        vertical-align: top;\n",
              "    }\n",
              "\n",
              "    .dataframe thead th {\n",
              "        text-align: right;\n",
              "    }\n",
              "</style>\n",
              "<table border=\"1\" class=\"dataframe\">\n",
              "  <thead>\n",
              "    <tr style=\"text-align: right;\">\n",
              "      <th></th>\n",
              "      <th>original_title</th>\n",
              "      <th>vote_count</th>\n",
              "      <th>vote_average</th>\n",
              "      <th>score</th>\n",
              "      <th>genres</th>\n",
              "    </tr>\n",
              "  </thead>\n",
              "  <tbody>\n",
              "    <tr>\n",
              "      <th>4178</th>\n",
              "      <td>The Shawshank Redemption</td>\n",
              "      <td>5754</td>\n",
              "      <td>8.4</td>\n",
              "      <td>8.382518</td>\n",
              "      <td>Drama|Crime</td>\n",
              "    </tr>\n",
              "    <tr>\n",
              "      <th>7269</th>\n",
              "      <td>The Godfather</td>\n",
              "      <td>3970</td>\n",
              "      <td>8.3</td>\n",
              "      <td>8.274987</td>\n",
              "      <td>Drama|Crime</td>\n",
              "    </tr>\n",
              "    <tr>\n",
              "      <th>650</th>\n",
              "      <td>Whiplash</td>\n",
              "      <td>2372</td>\n",
              "      <td>8.2</td>\n",
              "      <td>8.158725</td>\n",
              "      <td>Drama|Music</td>\n",
              "    </tr>\n",
              "    <tr>\n",
              "      <th>2875</th>\n",
              "      <td>The Dark Knight</td>\n",
              "      <td>8432</td>\n",
              "      <td>8.1</td>\n",
              "      <td>8.088489</td>\n",
              "      <td>Drama|Action|Crime|Thriller</td>\n",
              "    </tr>\n",
              "    <tr>\n",
              "      <th>2409</th>\n",
              "      <td>Fight Club</td>\n",
              "      <td>5923</td>\n",
              "      <td>8.1</td>\n",
              "      <td>8.083623</td>\n",
              "      <td>Drama</td>\n",
              "    </tr>\n",
              "  </tbody>\n",
              "</table>\n",
              "</div>"
            ],
            "text/plain": [
              "                original_title  vote_count  vote_average     score  \\\n",
              "4178  The Shawshank Redemption        5754           8.4  8.382518   \n",
              "7269             The Godfather        3970           8.3  8.274987   \n",
              "650                   Whiplash        2372           8.2  8.158725   \n",
              "2875           The Dark Knight        8432           8.1  8.088489   \n",
              "2409                Fight Club        5923           8.1  8.083623   \n",
              "\n",
              "                           genres  \n",
              "4178                  Drama|Crime  \n",
              "7269                  Drama|Crime  \n",
              "650                   Drama|Music  \n",
              "2875  Drama|Action|Crime|Thriller  \n",
              "2409                        Drama  "
            ]
          },
          "execution_count": 18,
          "metadata": {},
          "output_type": "execute_result"
        }
      ],
      "source": [
        "q_movies = q_movies.sort_values('score', ascending=False)\n",
        "\n",
        "#Print the top 5 movies\n",
        "q_movies[['original_title', 'vote_count', 'vote_average', 'score', 'genres']].head()"
      ]
    },
    {
      "cell_type": "code",
      "execution_count": 19,
      "metadata": {
        "colab": {
          "base_uri": "https://localhost:8080/",
          "height": 313
        },
        "id": "8WBF12l3BX1s",
        "outputId": "c3513d04-39a3-4ab3-bd4b-98220219df1c"
      },
      "outputs": [
        {
          "data": {
            "text/plain": [
              "Text(0.5, 1.0, 'Best Rated Movies')"
            ]
          },
          "execution_count": 19,
          "metadata": {},
          "output_type": "execute_result"
        },
        {
          "data": {
            "image/png": "[encoded data removed]",
            "text/plain": [
              "<Figure size 1152x576 with 1 Axes>"
            ]
          },
          "metadata": {
            "needs_background": "light"
          },
          "output_type": "display_data"
        }
      ],
      "source": [
        "#we can now plot the likability to recommend certain movie \n",
        "best= q_movies.sort_values('score', ascending=False)\n",
        "plt.figure(figsize=(16,8))\n",
        "\n",
        "plt.barh(best['original_title'].head(10),best['score'].head(10), align='center',\n",
        "        color='skyblue')\n",
        "plt.gca().invert_yaxis()\n",
        "plt.xlabel(\"score\")\n",
        "plt.title(\"Best Rated Movies\")"
      ]
    },
    {
      "cell_type": "markdown",
      "metadata": {},
      "source": [
        "The plot shows that The Shawshank Redemption has the highest score of all time. The original Imdb on the website confirm most of the result in this chart. "
      ]
    },
    {
      "cell_type": "code",
      "execution_count": 20,
      "metadata": {},
      "outputs": [
        {
          "data": {
            "text/plain": [
              "Text(0.5, 1.0, 'Top popular Movies')"
            ]
          },
          "execution_count": 20,
          "metadata": {},
          "output_type": "execute_result"
        },
        {
          "data": {
            "image/png": "[encoded data removed]",
            "text/plain": [
              "<Figure size 1152x576 with 1 Axes>"
            ]
          },
          "metadata": {
            "needs_background": "light"
          },
          "output_type": "display_data"
        }
      ],
      "source": [
        "#we can plot the top popular movies and compare with the best rated one\n",
        "pop= q_movies.sort_values('popularity', ascending=False)\n",
        "plt.figure(figsize=(16,8))\n",
        "\n",
        "plt.barh(pop['original_title'].head(10),pop['popularity'].head(10), align='center',\n",
        "        color='skyblue')\n",
        "plt.gca().invert_yaxis()\n",
        "plt.xlabel(\"popularity\")\n",
        "plt.title(\"Top popular Movies\")"
      ]
    },
    {
      "cell_type": "code",
      "execution_count": 21,
      "metadata": {},
      "outputs": [
        {
          "data": {
            "text/plain": [
              "{'Interstellar'}"
            ]
          },
          "execution_count": 21,
          "metadata": {},
          "output_type": "execute_result"
        }
      ],
      "source": [
        "set(best['original_title'].head(10)).intersection(set(pop['original_title'].head(10)))"
      ]
    },
    {
      "cell_type": "markdown",
      "metadata": {},
      "source": [
        "We can see that the only movie that has both highest popularity and best rating is INTERSTELLAR."
      ]
    },
    {
      "cell_type": "code",
      "execution_count": 22,
      "metadata": {
        "colab": {
          "base_uri": "https://localhost:8080/"
        },
        "id": "U5hZvVq6BX1t",
        "outputId": "8d27efa2-fd0a-4a06-f250-37a06eb8a830"
      },
      "outputs": [
        {
          "data": {
            "text/plain": [
              "score           1.000000\n",
              "vote_average    0.693457\n",
              "vote_count      0.494081\n",
              "popularity      0.482682\n",
              "revenue_adj     0.421465\n",
              "revenue         0.409788\n",
              "budget_adj      0.400132\n",
              "budget          0.386669\n",
              "runtime         0.184650\n",
              "release_year    0.015767\n",
              "id             -0.097718\n",
              "Name: score, dtype: float64"
            ]
          },
          "execution_count": 22,
          "metadata": {},
          "output_type": "execute_result"
        }
      ],
      "source": [
        "# calculating correlation among features to find the most features that affect the score\n",
        "score_corr = q_movies.corr()['score'].sort_values(ascending=False)\n",
        "score_corr"
      ]
    },
    {
      "cell_type": "code",
      "execution_count": 23,
      "metadata": {},
      "outputs": [
        {
          "data": {
            "text/html": [
              "<div>\n",
              "<style scoped>\n",
              "    .dataframe tbody tr th:only-of-type {\n",
              "        vertical-align: middle;\n",
              "    }\n",
              "\n",
              "    .dataframe tbody tr th {\n",
              "        vertical-align: top;\n",
              "    }\n",
              "\n",
              "    .dataframe thead th {\n",
              "        text-align: right;\n",
              "    }\n",
              "</style>\n",
              "<table border=\"1\" class=\"dataframe\">\n",
              "  <thead>\n",
              "    <tr style=\"text-align: right;\">\n",
              "      <th></th>\n",
              "      <th>id</th>\n",
              "      <th>imdb_id</th>\n",
              "      <th>popularity</th>\n",
              "      <th>budget</th>\n",
              "      <th>revenue</th>\n",
              "      <th>original_title</th>\n",
              "      <th>cast</th>\n",
              "      <th>homepage</th>\n",
              "      <th>director</th>\n",
              "      <th>tagline</th>\n",
              "      <th>...</th>\n",
              "      <th>runtime</th>\n",
              "      <th>genres</th>\n",
              "      <th>production_companies</th>\n",
              "      <th>release_date</th>\n",
              "      <th>vote_count</th>\n",
              "      <th>vote_average</th>\n",
              "      <th>release_year</th>\n",
              "      <th>budget_adj</th>\n",
              "      <th>revenue_adj</th>\n",
              "      <th>score</th>\n",
              "    </tr>\n",
              "  </thead>\n",
              "  <tbody>\n",
              "    <tr>\n",
              "      <th>2875</th>\n",
              "      <td>155</td>\n",
              "      <td>tt0468569</td>\n",
              "      <td>8.466668</td>\n",
              "      <td>185000000</td>\n",
              "      <td>1001921825</td>\n",
              "      <td>The Dark Knight</td>\n",
              "      <td>Christian Bale|Michael Caine|Heath Ledger|Aaro...</td>\n",
              "      <td>http://thedarkknight.warnerbros.com/dvdsite/</td>\n",
              "      <td>Christopher Nolan</td>\n",
              "      <td>Why So Serious?</td>\n",
              "      <td>...</td>\n",
              "      <td>152</td>\n",
              "      <td>Drama|Action|Crime|Thriller</td>\n",
              "      <td>DC Comics|Legendary Pictures|Warner Bros.|Syncopy</td>\n",
              "      <td>7/16/08</td>\n",
              "      <td>8432</td>\n",
              "      <td>8.1</td>\n",
              "      <td>2008</td>\n",
              "      <td>1.873655e+08</td>\n",
              "      <td>1.014733e+09</td>\n",
              "      <td>8.088489</td>\n",
              "    </tr>\n",
              "  </tbody>\n",
              "</table>\n",
              "<p>1 rows × 22 columns</p>\n",
              "</div>"
            ],
            "text/plain": [
              "       id    imdb_id  popularity     budget     revenue   original_title  \\\n",
              "2875  155  tt0468569    8.466668  185000000  1001921825  The Dark Knight   \n",
              "\n",
              "                                                   cast  \\\n",
              "2875  Christian Bale|Michael Caine|Heath Ledger|Aaro...   \n",
              "\n",
              "                                          homepage           director  \\\n",
              "2875  http://thedarkknight.warnerbros.com/dvdsite/  Christopher Nolan   \n",
              "\n",
              "              tagline  ... runtime                       genres  \\\n",
              "2875  Why So Serious?  ...     152  Drama|Action|Crime|Thriller   \n",
              "\n",
              "                                   production_companies release_date  \\\n",
              "2875  DC Comics|Legendary Pictures|Warner Bros.|Syncopy      7/16/08   \n",
              "\n",
              "     vote_count vote_average  release_year    budget_adj   revenue_adj  \\\n",
              "2875       8432          8.1          2008  1.873655e+08  1.014733e+09   \n",
              "\n",
              "         score  \n",
              "2875  8.088489  \n",
              "\n",
              "[1 rows x 22 columns]"
            ]
          },
          "execution_count": 23,
          "metadata": {},
          "output_type": "execute_result"
        }
      ],
      "source": [
        "#see the full data of one of the top 10 movies\n",
        "q_movies.loc[(q_movies[\"original_title\"] ==\"The Dark Knight\")]"
      ]
    },
    {
      "cell_type": "code",
      "execution_count": 24,
      "metadata": {
        "colab": {
          "base_uri": "https://localhost:8080/",
          "height": 279
        },
        "collapsed": true,
        "id": "s463pt4UBX1u",
        "outputId": "5dc1b303-7496-4539-a446-5e367257d4c9"
      },
      "outputs": [
        {
          "data": {
            "text/plain": [
              "Text(0, 0.5, 'Vote Average')"
            ]
          },
          "execution_count": 24,
          "metadata": {},
          "output_type": "execute_result"
        },
        {
          "data": {
            "image/png": "[encoded data removed]",
            "text/plain": [
              "<Figure size 432x288 with 1 Axes>"
            ]
          },
          "metadata": {
            "needs_background": "light"
          },
          "output_type": "display_data"
        }
      ],
      "source": [
        "#plotting the feature that is most correlated with the score\n",
        "plt.scatter(q_movies[\"score\"], q_movies[\"vote_average\"])\n",
        "plt.xlabel(\"Score\")\n",
        "plt.ylabel(\"Vote Average\")"
      ]
    },
    {
      "cell_type": "markdown",
      "metadata": {},
      "source": [
        "The graph shows the correlation between Vote Average and score. the scattering around the line shows that Vote Average is highly correlated with the score."
      ]
    },
    {
      "cell_type": "code",
      "execution_count": 25,
      "metadata": {},
      "outputs": [
        {
          "data": {
            "text/plain": [
              "Text(0, 0.5, 'Revenue')"
            ]
          },
          "execution_count": 25,
          "metadata": {},
          "output_type": "execute_result"
        },
        {
          "data": {
            "image/png": "[encoded data removed]",
            "text/plain": [
              "<Figure size 432x288 with 1 Axes>"
            ]
          },
          "metadata": {
            "needs_background": "light"
          },
          "output_type": "display_data"
        }
      ],
      "source": [
        "#plotting the 5th values that affect the score\n",
        "plt.scatter(q_movies[\"score\"], q_movies[\"revenue\"])\n",
        "plt.xlabel(\"Score\")\n",
        "plt.ylabel(\"Revenue\")"
      ]
    },
    {
      "cell_type": "markdown",
      "metadata": {},
      "source": [
        "The 5th correlated 'Revenue' with score shows that it's not correlated with the score. this is evident that Revenue doesn't affect the score that much."
      ]
    },
    {
      "cell_type": "markdown",
      "metadata": {
        "id": "eKuubNAIBX1v"
      },
      "source": [
        "### Research Question 2  (Identify best rated 6 movies in each genres and the top 6 popular genres)"
      ]
    },
    {
      "cell_type": "markdown",
      "metadata": {
        "id": "4fCHyHI7BX1w"
      },
      "source": [
        "There are only 23 movies that have missing genres tags. I chose to set 'empty' string at these 23 movies. so that no error could be found."
      ]
    },
    {
      "cell_type": "code",
      "execution_count": 26,
      "metadata": {},
      "outputs": [
        {
          "name": "stdout",
          "output_type": "stream",
          "text": [
            "<class 'pandas.core.frame.DataFrame'>\n",
            "Int64Index: 9890 entries, 4178 to 10865\n",
            "Data columns (total 22 columns):\n",
            " #   Column                Non-Null Count  Dtype  \n",
            "---  ------                --------------  -----  \n",
            " 0   id                    9890 non-null   int64  \n",
            " 1   imdb_id               9884 non-null   object \n",
            " 2   popularity            9890 non-null   float64\n",
            " 3   budget                9890 non-null   int64  \n",
            " 4   revenue               9890 non-null   int64  \n",
            " 5   original_title        9890 non-null   object \n",
            " 6   cast                  9829 non-null   object \n",
            " 7   homepage              2756 non-null   object \n",
            " 8   director              9860 non-null   object \n",
            " 9   tagline               7538 non-null   object \n",
            " 10  keywords              8676 non-null   object \n",
            " 11  overview              9886 non-null   object \n",
            " 12  runtime               9890 non-null   int64  \n",
            " 13  genres                9874 non-null   object \n",
            " 14  production_companies  9082 non-null   object \n",
            " 15  release_date          9890 non-null   object \n",
            " 16  vote_count            9890 non-null   int64  \n",
            " 17  vote_average          9890 non-null   float64\n",
            " 18  release_year          9890 non-null   int64  \n",
            " 19  budget_adj            9890 non-null   float64\n",
            " 20  revenue_adj           9890 non-null   float64\n",
            " 21  score                 9890 non-null   float64\n",
            "dtypes: float64(5), int64(6), object(11)\n",
            "memory usage: 1.7+ MB\n"
          ]
        }
      ],
      "source": [
        "q_movies.info()"
      ]
    },
    {
      "cell_type": "code",
      "execution_count": 27,
      "metadata": {
        "colab": {
          "base_uri": "https://localhost:8080/"
        },
        "id": "idCRJo0UBX1w",
        "outputId": "5d20bfcc-7b08-4e4d-e2d2-3754b6924f80"
      },
      "outputs": [
        {
          "data": {
            "text/plain": [
              "16"
            ]
          },
          "execution_count": 27,
          "metadata": {},
          "output_type": "execute_result"
        }
      ],
      "source": [
        "q_movies['genres'].isnull().sum()"
      ]
    },
    {
      "cell_type": "code",
      "execution_count": 28,
      "metadata": {},
      "outputs": [
        {
          "data": {
            "text/html": [
              "<div>\n",
              "<style scoped>\n",
              "    .dataframe tbody tr th:only-of-type {\n",
              "        vertical-align: middle;\n",
              "    }\n",
              "\n",
              "    .dataframe tbody tr th {\n",
              "        vertical-align: top;\n",
              "    }\n",
              "\n",
              "    .dataframe thead th {\n",
              "        text-align: right;\n",
              "    }\n",
              "</style>\n",
              "<table border=\"1\" class=\"dataframe\">\n",
              "  <thead>\n",
              "    <tr style=\"text-align: right;\">\n",
              "      <th></th>\n",
              "      <th>id</th>\n",
              "      <th>imdb_id</th>\n",
              "      <th>popularity</th>\n",
              "      <th>budget</th>\n",
              "      <th>revenue</th>\n",
              "      <th>original_title</th>\n",
              "      <th>cast</th>\n",
              "      <th>homepage</th>\n",
              "      <th>director</th>\n",
              "      <th>tagline</th>\n",
              "      <th>...</th>\n",
              "      <th>runtime</th>\n",
              "      <th>genres</th>\n",
              "      <th>production_companies</th>\n",
              "      <th>release_date</th>\n",
              "      <th>vote_count</th>\n",
              "      <th>vote_average</th>\n",
              "      <th>release_year</th>\n",
              "      <th>budget_adj</th>\n",
              "      <th>revenue_adj</th>\n",
              "      <th>score</th>\n",
              "    </tr>\n",
              "  </thead>\n",
              "  <tbody>\n",
              "    <tr>\n",
              "      <th>1712</th>\n",
              "      <td>21634</td>\n",
              "      <td>tt1073510</td>\n",
              "      <td>0.302095</td>\n",
              "      <td>0</td>\n",
              "      <td>0</td>\n",
              "      <td>Prayers for Bobby</td>\n",
              "      <td>Ryan Kelley|Sigourney Weaver|Henry Czerny|Dan ...</td>\n",
              "      <td>http://www.prayersforbobby.com/</td>\n",
              "      <td>Russell Mulcahy</td>\n",
              "      <td>Before you echo \"amen\" in your home and place ...</td>\n",
              "      <td>...</td>\n",
              "      <td>88</td>\n",
              "      <td>NaN</td>\n",
              "      <td>Daniel Sladek Entertainment</td>\n",
              "      <td>2/27/09</td>\n",
              "      <td>57</td>\n",
              "      <td>7.4</td>\n",
              "      <td>2009</td>\n",
              "      <td>0.0</td>\n",
              "      <td>0.0</td>\n",
              "      <td>6.113043</td>\n",
              "    </tr>\n",
              "    <tr>\n",
              "      <th>5830</th>\n",
              "      <td>282848</td>\n",
              "      <td>tt2986512</td>\n",
              "      <td>0.248944</td>\n",
              "      <td>0</td>\n",
              "      <td>0</td>\n",
              "      <td>Doctor Who: The Time of the Doctor</td>\n",
              "      <td>Matt Smith|Jenna Coleman</td>\n",
              "      <td>NaN</td>\n",
              "      <td>James Payne</td>\n",
              "      <td>A change is going to come...</td>\n",
              "      <td>...</td>\n",
              "      <td>60</td>\n",
              "      <td>NaN</td>\n",
              "      <td>NaN</td>\n",
              "      <td>12/25/13</td>\n",
              "      <td>26</td>\n",
              "      <td>8.5</td>\n",
              "      <td>2013</td>\n",
              "      <td>0.0</td>\n",
              "      <td>0.0</td>\n",
              "      <td>5.815789</td>\n",
              "    </tr>\n",
              "    <tr>\n",
              "      <th>8234</th>\n",
              "      <td>56804</td>\n",
              "      <td>tt0114844</td>\n",
              "      <td>0.028874</td>\n",
              "      <td>0</td>\n",
              "      <td>0</td>\n",
              "      <td>Viaggi di nozze</td>\n",
              "      <td>Carlo Verdone|Claudia Gerini|Veronica Pivetti|...</td>\n",
              "      <td>NaN</td>\n",
              "      <td>Carlo Verdone</td>\n",
              "      <td>NaN</td>\n",
              "      <td>...</td>\n",
              "      <td>103</td>\n",
              "      <td>NaN</td>\n",
              "      <td>NaN</td>\n",
              "      <td>12/15/95</td>\n",
              "      <td>44</td>\n",
              "      <td>6.7</td>\n",
              "      <td>1995</td>\n",
              "      <td>0.0</td>\n",
              "      <td>0.0</td>\n",
              "      <td>5.264286</td>\n",
              "    </tr>\n",
              "    <tr>\n",
              "      <th>5934</th>\n",
              "      <td>200204</td>\n",
              "      <td>tt2808968</td>\n",
              "      <td>0.067433</td>\n",
              "      <td>0</td>\n",
              "      <td>0</td>\n",
              "      <td>Prada: Candy</td>\n",
              "      <td>Peter Gadiot|Rodolphe Pauly|LÃ©a Seydoux</td>\n",
              "      <td>NaN</td>\n",
              "      <td>Wes Anderson|Roman Coppola</td>\n",
              "      <td>short</td>\n",
              "      <td>...</td>\n",
              "      <td>3</td>\n",
              "      <td>NaN</td>\n",
              "      <td>NaN</td>\n",
              "      <td>3/25/13</td>\n",
              "      <td>27</td>\n",
              "      <td>6.9</td>\n",
              "      <td>2013</td>\n",
              "      <td>0.0</td>\n",
              "      <td>0.0</td>\n",
              "      <td>4.776923</td>\n",
              "    </tr>\n",
              "    <tr>\n",
              "      <th>4547</th>\n",
              "      <td>123024</td>\n",
              "      <td>tt2305700</td>\n",
              "      <td>0.520520</td>\n",
              "      <td>0</td>\n",
              "      <td>0</td>\n",
              "      <td>London 2012 Olympic Opening Ceremony: Isles of...</td>\n",
              "      <td>Queen Elizabeth II|Mike Oldfield|Kenneth Brana...</td>\n",
              "      <td>http://www.london2012.com/</td>\n",
              "      <td>Danny Boyle</td>\n",
              "      <td>Inspire a generation.</td>\n",
              "      <td>...</td>\n",
              "      <td>220</td>\n",
              "      <td>NaN</td>\n",
              "      <td>BBC</td>\n",
              "      <td>7/27/12</td>\n",
              "      <td>12</td>\n",
              "      <td>8.3</td>\n",
              "      <td>2012</td>\n",
              "      <td>0.0</td>\n",
              "      <td>0.0</td>\n",
              "      <td>4.150000</td>\n",
              "    </tr>\n",
              "    <tr>\n",
              "      <th>6530</th>\n",
              "      <td>168891</td>\n",
              "      <td>tt0818519</td>\n",
              "      <td>0.092724</td>\n",
              "      <td>0</td>\n",
              "      <td>0</td>\n",
              "      <td>Saw Rebirth</td>\n",
              "      <td>Whit Anderson|Stan Kirsch|Jeff Shuter|George W...</td>\n",
              "      <td>NaN</td>\n",
              "      <td>Jeff Shuter|Daniel Viney</td>\n",
              "      <td>Somewhere... Somehow... Something went wrong...</td>\n",
              "      <td>...</td>\n",
              "      <td>6</td>\n",
              "      <td>NaN</td>\n",
              "      <td>NaN</td>\n",
              "      <td>10/24/05</td>\n",
              "      <td>24</td>\n",
              "      <td>5.9</td>\n",
              "      <td>2005</td>\n",
              "      <td>0.0</td>\n",
              "      <td>0.0</td>\n",
              "      <td>3.933333</td>\n",
              "    </tr>\n",
              "    <tr>\n",
              "      <th>424</th>\n",
              "      <td>363869</td>\n",
              "      <td>tt4835298</td>\n",
              "      <td>0.244648</td>\n",
              "      <td>0</td>\n",
              "      <td>0</td>\n",
              "      <td>Belli di papÃ</td>\n",
              "      <td>Diego Abatantuono|Matilde Gioli|Andrea Pisani|...</td>\n",
              "      <td>NaN</td>\n",
              "      <td>Guido Chiesa</td>\n",
              "      <td>NaN</td>\n",
              "      <td>...</td>\n",
              "      <td>100</td>\n",
              "      <td>NaN</td>\n",
              "      <td>NaN</td>\n",
              "      <td>10/29/15</td>\n",
              "      <td>21</td>\n",
              "      <td>6.1</td>\n",
              "      <td>2015</td>\n",
              "      <td>0.0</td>\n",
              "      <td>0.0</td>\n",
              "      <td>3.881818</td>\n",
              "    </tr>\n",
              "    <tr>\n",
              "      <th>4890</th>\n",
              "      <td>126909</td>\n",
              "      <td>tt2219564</td>\n",
              "      <td>0.083202</td>\n",
              "      <td>0</td>\n",
              "      <td>0</td>\n",
              "      <td>Cousin Ben Troop Screening</td>\n",
              "      <td>Jason Schwartzman</td>\n",
              "      <td>http://www.funnyordie.com/videos/fc132ce8b2/co...</td>\n",
              "      <td>Wes Anderson</td>\n",
              "      <td>NaN</td>\n",
              "      <td>...</td>\n",
              "      <td>2</td>\n",
              "      <td>NaN</td>\n",
              "      <td>NaN</td>\n",
              "      <td>1/1/12</td>\n",
              "      <td>14</td>\n",
              "      <td>7.0</td>\n",
              "      <td>2012</td>\n",
              "      <td>0.0</td>\n",
              "      <td>0.0</td>\n",
              "      <td>3.769231</td>\n",
              "    </tr>\n",
              "    <tr>\n",
              "      <th>8614</th>\n",
              "      <td>65595</td>\n",
              "      <td>tt0117880</td>\n",
              "      <td>0.273934</td>\n",
              "      <td>0</td>\n",
              "      <td>0</td>\n",
              "      <td>T2 3-D: Battle Across Time</td>\n",
              "      <td>Arnold Schwarzenegger|Linda Hamilton|Edward Fu...</td>\n",
              "      <td>NaN</td>\n",
              "      <td>James Cameron</td>\n",
              "      <td>NaN</td>\n",
              "      <td>...</td>\n",
              "      <td>12</td>\n",
              "      <td>NaN</td>\n",
              "      <td>NaN</td>\n",
              "      <td>1/1/96</td>\n",
              "      <td>14</td>\n",
              "      <td>6.7</td>\n",
              "      <td>1996</td>\n",
              "      <td>0.0</td>\n",
              "      <td>0.0</td>\n",
              "      <td>3.607692</td>\n",
              "    </tr>\n",
              "    <tr>\n",
              "      <th>2853</th>\n",
              "      <td>57892</td>\n",
              "      <td>tt0270053</td>\n",
              "      <td>0.130018</td>\n",
              "      <td>0</td>\n",
              "      <td>0</td>\n",
              "      <td>Vizontele</td>\n",
              "      <td>YÄ±lmaz ErdoÄŸan|Demet Akbag|Altan Erkekli|Cem...</td>\n",
              "      <td>NaN</td>\n",
              "      <td>YÄ±lmaz ErdoÄŸan</td>\n",
              "      <td>NaN</td>\n",
              "      <td>...</td>\n",
              "      <td>110</td>\n",
              "      <td>NaN</td>\n",
              "      <td>NaN</td>\n",
              "      <td>2/2/01</td>\n",
              "      <td>12</td>\n",
              "      <td>7.2</td>\n",
              "      <td>2001</td>\n",
              "      <td>0.0</td>\n",
              "      <td>0.0</td>\n",
              "      <td>3.600000</td>\n",
              "    </tr>\n",
              "    <tr>\n",
              "      <th>997</th>\n",
              "      <td>287663</td>\n",
              "      <td>NaN</td>\n",
              "      <td>0.330431</td>\n",
              "      <td>0</td>\n",
              "      <td>0</td>\n",
              "      <td>Star Wars Rebels: Spark of Rebellion</td>\n",
              "      <td>Freddie Prinze Jr.|Vanessa Marshall|Steve Blum...</td>\n",
              "      <td>NaN</td>\n",
              "      <td>Steward Lee|Steven G. Lee</td>\n",
              "      <td>NaN</td>\n",
              "      <td>...</td>\n",
              "      <td>44</td>\n",
              "      <td>NaN</td>\n",
              "      <td>NaN</td>\n",
              "      <td>10/3/14</td>\n",
              "      <td>13</td>\n",
              "      <td>6.8</td>\n",
              "      <td>2014</td>\n",
              "      <td>0.0</td>\n",
              "      <td>0.0</td>\n",
              "      <td>3.536000</td>\n",
              "    </tr>\n",
              "    <tr>\n",
              "      <th>4732</th>\n",
              "      <td>139463</td>\n",
              "      <td>tt2084977</td>\n",
              "      <td>0.235911</td>\n",
              "      <td>0</td>\n",
              "      <td>0</td>\n",
              "      <td>The Scapegoat</td>\n",
              "      <td>Andrew Scott|Jodhi May|Eileen Atkins|Matthew R...</td>\n",
              "      <td>http://www.island-pictures.co.uk/extras/the-sc...</td>\n",
              "      <td>Charles Sturridge</td>\n",
              "      <td>NaN</td>\n",
              "      <td>...</td>\n",
              "      <td>100</td>\n",
              "      <td>NaN</td>\n",
              "      <td>Island Pictures</td>\n",
              "      <td>9/9/12</td>\n",
              "      <td>12</td>\n",
              "      <td>6.2</td>\n",
              "      <td>2012</td>\n",
              "      <td>0.0</td>\n",
              "      <td>0.0</td>\n",
              "      <td>3.100000</td>\n",
              "    </tr>\n",
              "    <tr>\n",
              "      <th>8878</th>\n",
              "      <td>92208</td>\n",
              "      <td>tt0250593</td>\n",
              "      <td>0.038045</td>\n",
              "      <td>0</td>\n",
              "      <td>0</td>\n",
              "      <td>Mom's Got a Date With a Vampire</td>\n",
              "      <td>Matt O'Leary|Laura Vandervoort|Myles Jeffrey|C...</td>\n",
              "      <td>NaN</td>\n",
              "      <td>Steve Boyum</td>\n",
              "      <td>NaN</td>\n",
              "      <td>...</td>\n",
              "      <td>85</td>\n",
              "      <td>NaN</td>\n",
              "      <td>Walt Disney Pictures</td>\n",
              "      <td>10/13/00</td>\n",
              "      <td>16</td>\n",
              "      <td>5.4</td>\n",
              "      <td>2000</td>\n",
              "      <td>0.0</td>\n",
              "      <td>0.0</td>\n",
              "      <td>3.085714</td>\n",
              "    </tr>\n",
              "    <tr>\n",
              "      <th>6043</th>\n",
              "      <td>190940</td>\n",
              "      <td>tt2797242</td>\n",
              "      <td>0.039080</td>\n",
              "      <td>0</td>\n",
              "      <td>0</td>\n",
              "      <td>Bombay Talkies</td>\n",
              "      <td>Aamir Khan|Rani Mukerji|Randeep Hooda|Saqib Sa...</td>\n",
              "      <td>http://en.wikipedia.org/wiki/Bombay_Talkies_%2...</td>\n",
              "      <td>Anurag Kashyap|Dibakar Banerjee|Zoya Akhtar|Ka...</td>\n",
              "      <td>NaN</td>\n",
              "      <td>...</td>\n",
              "      <td>127</td>\n",
              "      <td>NaN</td>\n",
              "      <td>Viacom 18 Motion Pictures</td>\n",
              "      <td>5/3/13</td>\n",
              "      <td>12</td>\n",
              "      <td>5.9</td>\n",
              "      <td>2013</td>\n",
              "      <td>0.0</td>\n",
              "      <td>0.0</td>\n",
              "      <td>2.950000</td>\n",
              "    </tr>\n",
              "    <tr>\n",
              "      <th>2370</th>\n",
              "      <td>127717</td>\n",
              "      <td>tt1525359</td>\n",
              "      <td>0.081892</td>\n",
              "      <td>0</td>\n",
              "      <td>0</td>\n",
              "      <td>Freshman Father</td>\n",
              "      <td>Britt Irvin|Merrilyn Gann|Barbara Tyson|Anthon...</td>\n",
              "      <td>NaN</td>\n",
              "      <td>Michael Scott</td>\n",
              "      <td>NaN</td>\n",
              "      <td>...</td>\n",
              "      <td>0</td>\n",
              "      <td>NaN</td>\n",
              "      <td>NaN</td>\n",
              "      <td>6/5/10</td>\n",
              "      <td>12</td>\n",
              "      <td>5.8</td>\n",
              "      <td>2010</td>\n",
              "      <td>0.0</td>\n",
              "      <td>0.0</td>\n",
              "      <td>2.900000</td>\n",
              "    </tr>\n",
              "    <tr>\n",
              "      <th>620</th>\n",
              "      <td>361043</td>\n",
              "      <td>tt5022680</td>\n",
              "      <td>0.129696</td>\n",
              "      <td>0</td>\n",
              "      <td>0</td>\n",
              "      <td>All Hallows' Eve 2</td>\n",
              "      <td>NaN</td>\n",
              "      <td>NaN</td>\n",
              "      <td>Antonio Padovan|Bryan Norton|Marc Roussel|Ryan...</td>\n",
              "      <td>NaN</td>\n",
              "      <td>...</td>\n",
              "      <td>90</td>\n",
              "      <td>NaN</td>\n",
              "      <td>Ruthless Pictures|Hollywood Shorts</td>\n",
              "      <td>10/6/15</td>\n",
              "      <td>13</td>\n",
              "      <td>5.0</td>\n",
              "      <td>2015</td>\n",
              "      <td>0.0</td>\n",
              "      <td>0.0</td>\n",
              "      <td>2.600000</td>\n",
              "    </tr>\n",
              "  </tbody>\n",
              "</table>\n",
              "<p>16 rows × 22 columns</p>\n",
              "</div>"
            ],
            "text/plain": [
              "          id    imdb_id  popularity  budget  revenue  \\\n",
              "1712   21634  tt1073510    0.302095       0        0   \n",
              "5830  282848  tt2986512    0.248944       0        0   \n",
              "8234   56804  tt0114844    0.028874       0        0   \n",
              "5934  200204  tt2808968    0.067433       0        0   \n",
              "4547  123024  tt2305700    0.520520       0        0   \n",
              "6530  168891  tt0818519    0.092724       0        0   \n",
              "424   363869  tt4835298    0.244648       0        0   \n",
              "4890  126909  tt2219564    0.083202       0        0   \n",
              "8614   65595  tt0117880    0.273934       0        0   \n",
              "2853   57892  tt0270053    0.130018       0        0   \n",
              "997   287663        NaN    0.330431       0        0   \n",
              "4732  139463  tt2084977    0.235911       0        0   \n",
              "8878   92208  tt0250593    0.038045       0        0   \n",
              "6043  190940  tt2797242    0.039080       0        0   \n",
              "2370  127717  tt1525359    0.081892       0        0   \n",
              "620   361043  tt5022680    0.129696       0        0   \n",
              "\n",
              "                                         original_title  \\\n",
              "1712                                  Prayers for Bobby   \n",
              "5830                 Doctor Who: The Time of the Doctor   \n",
              "8234                                    Viaggi di nozze   \n",
              "5934                                       Prada: Candy   \n",
              "4547  London 2012 Olympic Opening Ceremony: Isles of...   \n",
              "6530                                        Saw Rebirth   \n",
              "424                                      Belli di papÃ    \n",
              "4890                         Cousin Ben Troop Screening   \n",
              "8614                         T2 3-D: Battle Across Time   \n",
              "2853                                          Vizontele   \n",
              "997                Star Wars Rebels: Spark of Rebellion   \n",
              "4732                                      The Scapegoat   \n",
              "8878                    Mom's Got a Date With a Vampire   \n",
              "6043                                     Bombay Talkies   \n",
              "2370                                    Freshman Father   \n",
              "620                                  All Hallows' Eve 2   \n",
              "\n",
              "                                                   cast  \\\n",
              "1712  Ryan Kelley|Sigourney Weaver|Henry Czerny|Dan ...   \n",
              "5830                           Matt Smith|Jenna Coleman   \n",
              "8234  Carlo Verdone|Claudia Gerini|Veronica Pivetti|...   \n",
              "5934           Peter Gadiot|Rodolphe Pauly|LÃ©a Seydoux   \n",
              "4547  Queen Elizabeth II|Mike Oldfield|Kenneth Brana...   \n",
              "6530  Whit Anderson|Stan Kirsch|Jeff Shuter|George W...   \n",
              "424   Diego Abatantuono|Matilde Gioli|Andrea Pisani|...   \n",
              "4890                                  Jason Schwartzman   \n",
              "8614  Arnold Schwarzenegger|Linda Hamilton|Edward Fu...   \n",
              "2853  YÄ±lmaz ErdoÄŸan|Demet Akbag|Altan Erkekli|Cem...   \n",
              "997   Freddie Prinze Jr.|Vanessa Marshall|Steve Blum...   \n",
              "4732  Andrew Scott|Jodhi May|Eileen Atkins|Matthew R...   \n",
              "8878  Matt O'Leary|Laura Vandervoort|Myles Jeffrey|C...   \n",
              "6043  Aamir Khan|Rani Mukerji|Randeep Hooda|Saqib Sa...   \n",
              "2370  Britt Irvin|Merrilyn Gann|Barbara Tyson|Anthon...   \n",
              "620                                                 NaN   \n",
              "\n",
              "                                               homepage  \\\n",
              "1712                    http://www.prayersforbobby.com/   \n",
              "5830                                                NaN   \n",
              "8234                                                NaN   \n",
              "5934                                                NaN   \n",
              "4547                         http://www.london2012.com/   \n",
              "6530                                                NaN   \n",
              "424                                                 NaN   \n",
              "4890  http://www.funnyordie.com/videos/fc132ce8b2/co...   \n",
              "8614                                                NaN   \n",
              "2853                                                NaN   \n",
              "997                                                 NaN   \n",
              "4732  http://www.island-pictures.co.uk/extras/the-sc...   \n",
              "8878                                                NaN   \n",
              "6043  http://en.wikipedia.org/wiki/Bombay_Talkies_%2...   \n",
              "2370                                                NaN   \n",
              "620                                                 NaN   \n",
              "\n",
              "                                               director  \\\n",
              "1712                                    Russell Mulcahy   \n",
              "5830                                        James Payne   \n",
              "8234                                      Carlo Verdone   \n",
              "5934                         Wes Anderson|Roman Coppola   \n",
              "4547                                        Danny Boyle   \n",
              "6530                           Jeff Shuter|Daniel Viney   \n",
              "424                                        Guido Chiesa   \n",
              "4890                                       Wes Anderson   \n",
              "8614                                      James Cameron   \n",
              "2853                                   YÄ±lmaz ErdoÄŸan   \n",
              "997                           Steward Lee|Steven G. Lee   \n",
              "4732                                  Charles Sturridge   \n",
              "8878                                        Steve Boyum   \n",
              "6043  Anurag Kashyap|Dibakar Banerjee|Zoya Akhtar|Ka...   \n",
              "2370                                      Michael Scott   \n",
              "620   Antonio Padovan|Bryan Norton|Marc Roussel|Ryan...   \n",
              "\n",
              "                                                tagline  ... runtime genres  \\\n",
              "1712  Before you echo \"amen\" in your home and place ...  ...      88    NaN   \n",
              "5830                       A change is going to come...  ...      60    NaN   \n",
              "8234                                                NaN  ...     103    NaN   \n",
              "5934                                              short  ...       3    NaN   \n",
              "4547                              Inspire a generation.  ...     220    NaN   \n",
              "6530    Somewhere... Somehow... Something went wrong...  ...       6    NaN   \n",
              "424                                                 NaN  ...     100    NaN   \n",
              "4890                                                NaN  ...       2    NaN   \n",
              "8614                                                NaN  ...      12    NaN   \n",
              "2853                                                NaN  ...     110    NaN   \n",
              "997                                                 NaN  ...      44    NaN   \n",
              "4732                                                NaN  ...     100    NaN   \n",
              "8878                                                NaN  ...      85    NaN   \n",
              "6043                                                NaN  ...     127    NaN   \n",
              "2370                                                NaN  ...       0    NaN   \n",
              "620                                                 NaN  ...      90    NaN   \n",
              "\n",
              "                    production_companies release_date vote_count vote_average  \\\n",
              "1712         Daniel Sladek Entertainment      2/27/09         57          7.4   \n",
              "5830                                 NaN     12/25/13         26          8.5   \n",
              "8234                                 NaN     12/15/95         44          6.7   \n",
              "5934                                 NaN      3/25/13         27          6.9   \n",
              "4547                                 BBC      7/27/12         12          8.3   \n",
              "6530                                 NaN     10/24/05         24          5.9   \n",
              "424                                  NaN     10/29/15         21          6.1   \n",
              "4890                                 NaN       1/1/12         14          7.0   \n",
              "8614                                 NaN       1/1/96         14          6.7   \n",
              "2853                                 NaN       2/2/01         12          7.2   \n",
              "997                                  NaN      10/3/14         13          6.8   \n",
              "4732                     Island Pictures       9/9/12         12          6.2   \n",
              "8878                Walt Disney Pictures     10/13/00         16          5.4   \n",
              "6043           Viacom 18 Motion Pictures       5/3/13         12          5.9   \n",
              "2370                                 NaN       6/5/10         12          5.8   \n",
              "620   Ruthless Pictures|Hollywood Shorts      10/6/15         13          5.0   \n",
              "\n",
              "      release_year  budget_adj  revenue_adj     score  \n",
              "1712          2009         0.0          0.0  6.113043  \n",
              "5830          2013         0.0          0.0  5.815789  \n",
              "8234          1995         0.0          0.0  5.264286  \n",
              "5934          2013         0.0          0.0  4.776923  \n",
              "4547          2012         0.0          0.0  4.150000  \n",
              "6530          2005         0.0          0.0  3.933333  \n",
              "424           2015         0.0          0.0  3.881818  \n",
              "4890          2012         0.0          0.0  3.769231  \n",
              "8614          1996         0.0          0.0  3.607692  \n",
              "2853          2001         0.0          0.0  3.600000  \n",
              "997           2014         0.0          0.0  3.536000  \n",
              "4732          2012         0.0          0.0  3.100000  \n",
              "8878          2000         0.0          0.0  3.085714  \n",
              "6043          2013         0.0          0.0  2.950000  \n",
              "2370          2010         0.0          0.0  2.900000  \n",
              "620           2015         0.0          0.0  2.600000  \n",
              "\n",
              "[16 rows x 22 columns]"
            ]
          },
          "execution_count": 28,
          "metadata": {},
          "output_type": "execute_result"
        }
      ],
      "source": [
        "q_movies[q_movies['genres'].isnull()]"
      ]
    },
    {
      "cell_type": "code",
      "execution_count": 29,
      "metadata": {
        "collapsed": true,
        "id": "LPh8Y9Z_BX1w"
      },
      "outputs": [],
      "source": [
        "q_movies['genres'].fillna('None', inplace=True)"
      ]
    },
    {
      "cell_type": "markdown",
      "metadata": {
        "id": "i21GpJ1nBX1x"
      },
      "source": [
        "checking after filling data if any genres have missing data."
      ]
    },
    {
      "cell_type": "code",
      "execution_count": 30,
      "metadata": {
        "colab": {
          "base_uri": "https://localhost:8080/"
        },
        "id": "0fIJzSSyBX1x",
        "outputId": "37075186-b139-47ca-f449-29f89b3f2337"
      },
      "outputs": [
        {
          "name": "stdout",
          "output_type": "stream",
          "text": [
            "<class 'pandas.core.frame.DataFrame'>\n",
            "Int64Index: 9890 entries, 4178 to 10865\n",
            "Data columns (total 22 columns):\n",
            " #   Column                Non-Null Count  Dtype  \n",
            "---  ------                --------------  -----  \n",
            " 0   id                    9890 non-null   int64  \n",
            " 1   imdb_id               9884 non-null   object \n",
            " 2   popularity            9890 non-null   float64\n",
            " 3   budget                9890 non-null   int64  \n",
            " 4   revenue               9890 non-null   int64  \n",
            " 5   original_title        9890 non-null   object \n",
            " 6   cast                  9829 non-null   object \n",
            " 7   homepage              2756 non-null   object \n",
            " 8   director              9860 non-null   object \n",
            " 9   tagline               7538 non-null   object \n",
            " 10  keywords              8676 non-null   object \n",
            " 11  overview              9886 non-null   object \n",
            " 12  runtime               9890 non-null   int64  \n",
            " 13  genres                9890 non-null   object \n",
            " 14  production_companies  9082 non-null   object \n",
            " 15  release_date          9890 non-null   object \n",
            " 16  vote_count            9890 non-null   int64  \n",
            " 17  vote_average          9890 non-null   float64\n",
            " 18  release_year          9890 non-null   int64  \n",
            " 19  budget_adj            9890 non-null   float64\n",
            " 20  revenue_adj           9890 non-null   float64\n",
            " 21  score                 9890 non-null   float64\n",
            "dtypes: float64(5), int64(6), object(11)\n",
            "memory usage: 1.7+ MB\n"
          ]
        }
      ],
      "source": [
        "q_movies['genres'].isnull().sum()\n",
        "q_movies.info()"
      ]
    },
    {
      "cell_type": "markdown",
      "metadata": {
        "id": "LBVEBF7sBX1x"
      },
      "source": [
        "Now implementing the code that rate the top 6 movies in each genres"
      ]
    },
    {
      "cell_type": "code",
      "execution_count": 31,
      "metadata": {
        "colab": {
          "base_uri": "https://localhost:8080/"
        },
        "id": "Pt1eIZTxBX1y",
        "outputId": "c8e1d0ba-4633-4d1a-9958-c508eccc7430"
      },
      "outputs": [
        {
          "data": {
            "text/plain": [
              "['Crime',\n",
              " 'Documentary',\n",
              " 'Fantasy',\n",
              " 'Science Fiction',\n",
              " 'History',\n",
              " 'Comedy',\n",
              " 'Action',\n",
              " 'None',\n",
              " 'Thriller',\n",
              " 'Horror',\n",
              " 'War',\n",
              " 'Western',\n",
              " 'Foreign',\n",
              " 'Family',\n",
              " 'TV Movie',\n",
              " 'Adventure',\n",
              " 'Drama',\n",
              " 'Animation',\n",
              " 'Romance',\n",
              " 'Music',\n",
              " 'Mystery']"
            ]
          },
          "execution_count": 31,
          "metadata": {},
          "output_type": "execute_result"
        }
      ],
      "source": [
        "#here we get the list of unique genres\n",
        "unique_genres = set()\n",
        "\n",
        "def genres_split(df, unique_genres=unique_genres):\n",
        "    row_genres = df['genres'].split(sep='|')\n",
        "    unique_genres.update(set(row_genres))\n",
        "\n",
        "q_movies.apply(genres_split, axis=1)\n",
        "unique_genres = list(unique_genres)\n",
        "unique_genres"
      ]
    },
    {
      "cell_type": "code",
      "execution_count": 32,
      "metadata": {
        "id": "73VjzZqlBX1z"
      },
      "outputs": [],
      "source": [
        "q_movies[unique_genres] = 0\n"
      ]
    },
    {
      "cell_type": "code",
      "execution_count": 33,
      "metadata": {
        "colab": {
          "base_uri": "https://localhost:8080/",
          "height": 531
        },
        "id": "6E1MMUncBX10",
        "outputId": "985a62f2-5017-4868-bb94-67193146e1ca"
      },
      "outputs": [
        {
          "data": {
            "text/html": [
              "<div>\n",
              "<style scoped>\n",
              "    .dataframe tbody tr th:only-of-type {\n",
              "        vertical-align: middle;\n",
              "    }\n",
              "\n",
              "    .dataframe tbody tr th {\n",
              "        vertical-align: top;\n",
              "    }\n",
              "\n",
              "    .dataframe thead th {\n",
              "        text-align: right;\n",
              "    }\n",
              "</style>\n",
              "<table border=\"1\" class=\"dataframe\">\n",
              "  <thead>\n",
              "    <tr style=\"text-align: right;\">\n",
              "      <th></th>\n",
              "      <th>id</th>\n",
              "      <th>imdb_id</th>\n",
              "      <th>popularity</th>\n",
              "      <th>budget</th>\n",
              "      <th>revenue</th>\n",
              "      <th>original_title</th>\n",
              "      <th>cast</th>\n",
              "      <th>homepage</th>\n",
              "      <th>director</th>\n",
              "      <th>tagline</th>\n",
              "      <th>...</th>\n",
              "      <th>Western</th>\n",
              "      <th>Foreign</th>\n",
              "      <th>Family</th>\n",
              "      <th>TV Movie</th>\n",
              "      <th>Adventure</th>\n",
              "      <th>Drama</th>\n",
              "      <th>Animation</th>\n",
              "      <th>Romance</th>\n",
              "      <th>Music</th>\n",
              "      <th>Mystery</th>\n",
              "    </tr>\n",
              "  </thead>\n",
              "  <tbody>\n",
              "    <tr>\n",
              "      <th>4178</th>\n",
              "      <td>278</td>\n",
              "      <td>tt0111161</td>\n",
              "      <td>7.192039</td>\n",
              "      <td>25000000</td>\n",
              "      <td>28341469</td>\n",
              "      <td>The Shawshank Redemption</td>\n",
              "      <td>Tim Robbins|Morgan Freeman|Bob Gunton|William ...</td>\n",
              "      <td>NaN</td>\n",
              "      <td>Frank Darabont</td>\n",
              "      <td>Fear can hold you prisoner. Hope can set you f...</td>\n",
              "      <td>...</td>\n",
              "      <td>0</td>\n",
              "      <td>0</td>\n",
              "      <td>0</td>\n",
              "      <td>0</td>\n",
              "      <td>0</td>\n",
              "      <td>1</td>\n",
              "      <td>0</td>\n",
              "      <td>0</td>\n",
              "      <td>0</td>\n",
              "      <td>0</td>\n",
              "    </tr>\n",
              "    <tr>\n",
              "      <th>7269</th>\n",
              "      <td>238</td>\n",
              "      <td>tt0068646</td>\n",
              "      <td>5.738034</td>\n",
              "      <td>6000000</td>\n",
              "      <td>245066411</td>\n",
              "      <td>The Godfather</td>\n",
              "      <td>Marlon Brando|Al Pacino|James Caan|Richard S. ...</td>\n",
              "      <td>http://www.thegodfather.com/</td>\n",
              "      <td>Francis Ford Coppola</td>\n",
              "      <td>An offer you can't refuse.</td>\n",
              "      <td>...</td>\n",
              "      <td>0</td>\n",
              "      <td>0</td>\n",
              "      <td>0</td>\n",
              "      <td>0</td>\n",
              "      <td>0</td>\n",
              "      <td>1</td>\n",
              "      <td>0</td>\n",
              "      <td>0</td>\n",
              "      <td>0</td>\n",
              "      <td>0</td>\n",
              "    </tr>\n",
              "    <tr>\n",
              "      <th>650</th>\n",
              "      <td>244786</td>\n",
              "      <td>tt2582802</td>\n",
              "      <td>4.780419</td>\n",
              "      <td>3300000</td>\n",
              "      <td>13993093</td>\n",
              "      <td>Whiplash</td>\n",
              "      <td>Miles Teller|J.K. Simmons|Melissa Benoist|Aust...</td>\n",
              "      <td>http://sonyclassics.com/whiplash/</td>\n",
              "      <td>Damien Chazelle</td>\n",
              "      <td>The road to greatness can take you to the edge.</td>\n",
              "      <td>...</td>\n",
              "      <td>0</td>\n",
              "      <td>0</td>\n",
              "      <td>0</td>\n",
              "      <td>0</td>\n",
              "      <td>0</td>\n",
              "      <td>1</td>\n",
              "      <td>0</td>\n",
              "      <td>0</td>\n",
              "      <td>1</td>\n",
              "      <td>0</td>\n",
              "    </tr>\n",
              "    <tr>\n",
              "      <th>2875</th>\n",
              "      <td>155</td>\n",
              "      <td>tt0468569</td>\n",
              "      <td>8.466668</td>\n",
              "      <td>185000000</td>\n",
              "      <td>1001921825</td>\n",
              "      <td>The Dark Knight</td>\n",
              "      <td>Christian Bale|Michael Caine|Heath Ledger|Aaro...</td>\n",
              "      <td>http://thedarkknight.warnerbros.com/dvdsite/</td>\n",
              "      <td>Christopher Nolan</td>\n",
              "      <td>Why So Serious?</td>\n",
              "      <td>...</td>\n",
              "      <td>0</td>\n",
              "      <td>0</td>\n",
              "      <td>0</td>\n",
              "      <td>0</td>\n",
              "      <td>0</td>\n",
              "      <td>1</td>\n",
              "      <td>0</td>\n",
              "      <td>0</td>\n",
              "      <td>0</td>\n",
              "      <td>0</td>\n",
              "    </tr>\n",
              "    <tr>\n",
              "      <th>2409</th>\n",
              "      <td>550</td>\n",
              "      <td>tt0137523</td>\n",
              "      <td>8.947905</td>\n",
              "      <td>63000000</td>\n",
              "      <td>100853753</td>\n",
              "      <td>Fight Club</td>\n",
              "      <td>Edward Norton|Brad Pitt|Meat Loaf|Jared Leto|H...</td>\n",
              "      <td>http://www.foxmovies.com/movies/fight-club</td>\n",
              "      <td>David Fincher</td>\n",
              "      <td>How much can you know about yourself if you've...</td>\n",
              "      <td>...</td>\n",
              "      <td>0</td>\n",
              "      <td>0</td>\n",
              "      <td>0</td>\n",
              "      <td>0</td>\n",
              "      <td>0</td>\n",
              "      <td>1</td>\n",
              "      <td>0</td>\n",
              "      <td>0</td>\n",
              "      <td>0</td>\n",
              "      <td>0</td>\n",
              "    </tr>\n",
              "    <tr>\n",
              "      <th>...</th>\n",
              "      <td>...</td>\n",
              "      <td>...</td>\n",
              "      <td>...</td>\n",
              "      <td>...</td>\n",
              "      <td>...</td>\n",
              "      <td>...</td>\n",
              "      <td>...</td>\n",
              "      <td>...</td>\n",
              "      <td>...</td>\n",
              "      <td>...</td>\n",
              "      <td>...</td>\n",
              "      <td>...</td>\n",
              "      <td>...</td>\n",
              "      <td>...</td>\n",
              "      <td>...</td>\n",
              "      <td>...</td>\n",
              "      <td>...</td>\n",
              "      <td>...</td>\n",
              "      <td>...</td>\n",
              "      <td>...</td>\n",
              "      <td>...</td>\n",
              "    </tr>\n",
              "    <tr>\n",
              "      <th>3822</th>\n",
              "      <td>83896</td>\n",
              "      <td>tt1844770</td>\n",
              "      <td>0.159707</td>\n",
              "      <td>0</td>\n",
              "      <td>0</td>\n",
              "      <td>Sand Sharks</td>\n",
              "      <td>Corin Nemec|Brooke Hogan|Vanessa Evigan|Eric S...</td>\n",
              "      <td>NaN</td>\n",
              "      <td>Mark Atkins</td>\n",
              "      <td>Just When You Thought You Were Safe Out of the...</td>\n",
              "      <td>...</td>\n",
              "      <td>0</td>\n",
              "      <td>0</td>\n",
              "      <td>0</td>\n",
              "      <td>0</td>\n",
              "      <td>0</td>\n",
              "      <td>0</td>\n",
              "      <td>0</td>\n",
              "      <td>0</td>\n",
              "      <td>0</td>\n",
              "      <td>0</td>\n",
              "    </tr>\n",
              "    <tr>\n",
              "      <th>7235</th>\n",
              "      <td>10838</td>\n",
              "      <td>tt0367677</td>\n",
              "      <td>0.209701</td>\n",
              "      <td>0</td>\n",
              "      <td>0</td>\n",
              "      <td>Dracula 3000</td>\n",
              "      <td>Casper Van Dien|Erika Eleniak|Coolio|Grant Swa...</td>\n",
              "      <td>NaN</td>\n",
              "      <td>Darrell James Roodt</td>\n",
              "      <td>In space, the sun never rises.</td>\n",
              "      <td>...</td>\n",
              "      <td>0</td>\n",
              "      <td>0</td>\n",
              "      <td>0</td>\n",
              "      <td>0</td>\n",
              "      <td>0</td>\n",
              "      <td>0</td>\n",
              "      <td>0</td>\n",
              "      <td>0</td>\n",
              "      <td>0</td>\n",
              "      <td>0</td>\n",
              "    </tr>\n",
              "    <tr>\n",
              "      <th>4859</th>\n",
              "      <td>116977</td>\n",
              "      <td>tt0249516</td>\n",
              "      <td>0.111351</td>\n",
              "      <td>65000000</td>\n",
              "      <td>73706</td>\n",
              "      <td>Foodfight!</td>\n",
              "      <td>Charlie Sheen|Wayne Brady|Hilary Duff|Eva Long...</td>\n",
              "      <td>http://www.thresholdanimationstudios.com/video...</td>\n",
              "      <td>Lawrence Kasanoff</td>\n",
              "      <td>When good food... goes bad!</td>\n",
              "      <td>...</td>\n",
              "      <td>0</td>\n",
              "      <td>0</td>\n",
              "      <td>1</td>\n",
              "      <td>0</td>\n",
              "      <td>0</td>\n",
              "      <td>0</td>\n",
              "      <td>1</td>\n",
              "      <td>0</td>\n",
              "      <td>0</td>\n",
              "      <td>0</td>\n",
              "    </tr>\n",
              "    <tr>\n",
              "      <th>4882</th>\n",
              "      <td>120846</td>\n",
              "      <td>tt2071491</td>\n",
              "      <td>0.079281</td>\n",
              "      <td>0</td>\n",
              "      <td>0</td>\n",
              "      <td>Jurassic Shark</td>\n",
              "      <td>Emanuelle Carriere|Christine Emes|Celine Filio...</td>\n",
              "      <td>NaN</td>\n",
              "      <td>Brett Kelly</td>\n",
              "      <td>Dinosaur from the deep</td>\n",
              "      <td>...</td>\n",
              "      <td>0</td>\n",
              "      <td>0</td>\n",
              "      <td>0</td>\n",
              "      <td>0</td>\n",
              "      <td>0</td>\n",
              "      <td>0</td>\n",
              "      <td>0</td>\n",
              "      <td>0</td>\n",
              "      <td>0</td>\n",
              "      <td>0</td>\n",
              "    </tr>\n",
              "    <tr>\n",
              "      <th>10865</th>\n",
              "      <td>22293</td>\n",
              "      <td>tt0060666</td>\n",
              "      <td>0.035919</td>\n",
              "      <td>19000</td>\n",
              "      <td>0</td>\n",
              "      <td>Manos: The Hands of Fate</td>\n",
              "      <td>Harold P. Warren|Tom Neyman|John Reynolds|Dian...</td>\n",
              "      <td>NaN</td>\n",
              "      <td>Harold P. Warren</td>\n",
              "      <td>It's Shocking! It's Beyond Your Imagination!</td>\n",
              "      <td>...</td>\n",
              "      <td>0</td>\n",
              "      <td>0</td>\n",
              "      <td>0</td>\n",
              "      <td>0</td>\n",
              "      <td>0</td>\n",
              "      <td>0</td>\n",
              "      <td>0</td>\n",
              "      <td>0</td>\n",
              "      <td>0</td>\n",
              "      <td>0</td>\n",
              "    </tr>\n",
              "  </tbody>\n",
              "</table>\n",
              "<p>9890 rows × 43 columns</p>\n",
              "</div>"
            ],
            "text/plain": [
              "           id    imdb_id  popularity     budget     revenue  \\\n",
              "4178      278  tt0111161    7.192039   25000000    28341469   \n",
              "7269      238  tt0068646    5.738034    6000000   245066411   \n",
              "650    244786  tt2582802    4.780419    3300000    13993093   \n",
              "2875      155  tt0468569    8.466668  185000000  1001921825   \n",
              "2409      550  tt0137523    8.947905   63000000   100853753   \n",
              "...       ...        ...         ...        ...         ...   \n",
              "3822    83896  tt1844770    0.159707          0           0   \n",
              "7235    10838  tt0367677    0.209701          0           0   \n",
              "4859   116977  tt0249516    0.111351   65000000       73706   \n",
              "4882   120846  tt2071491    0.079281          0           0   \n",
              "10865   22293  tt0060666    0.035919      19000           0   \n",
              "\n",
              "                 original_title  \\\n",
              "4178   The Shawshank Redemption   \n",
              "7269              The Godfather   \n",
              "650                    Whiplash   \n",
              "2875            The Dark Knight   \n",
              "2409                 Fight Club   \n",
              "...                         ...   \n",
              "3822                Sand Sharks   \n",
              "7235               Dracula 3000   \n",
              "4859                 Foodfight!   \n",
              "4882             Jurassic Shark   \n",
              "10865  Manos: The Hands of Fate   \n",
              "\n",
              "                                                    cast  \\\n",
              "4178   Tim Robbins|Morgan Freeman|Bob Gunton|William ...   \n",
              "7269   Marlon Brando|Al Pacino|James Caan|Richard S. ...   \n",
              "650    Miles Teller|J.K. Simmons|Melissa Benoist|Aust...   \n",
              "2875   Christian Bale|Michael Caine|Heath Ledger|Aaro...   \n",
              "2409   Edward Norton|Brad Pitt|Meat Loaf|Jared Leto|H...   \n",
              "...                                                  ...   \n",
              "3822   Corin Nemec|Brooke Hogan|Vanessa Evigan|Eric S...   \n",
              "7235   Casper Van Dien|Erika Eleniak|Coolio|Grant Swa...   \n",
              "4859   Charlie Sheen|Wayne Brady|Hilary Duff|Eva Long...   \n",
              "4882   Emanuelle Carriere|Christine Emes|Celine Filio...   \n",
              "10865  Harold P. Warren|Tom Neyman|John Reynolds|Dian...   \n",
              "\n",
              "                                                homepage  \\\n",
              "4178                                                 NaN   \n",
              "7269                        http://www.thegodfather.com/   \n",
              "650                    http://sonyclassics.com/whiplash/   \n",
              "2875        http://thedarkknight.warnerbros.com/dvdsite/   \n",
              "2409          http://www.foxmovies.com/movies/fight-club   \n",
              "...                                                  ...   \n",
              "3822                                                 NaN   \n",
              "7235                                                 NaN   \n",
              "4859   http://www.thresholdanimationstudios.com/video...   \n",
              "4882                                                 NaN   \n",
              "10865                                                NaN   \n",
              "\n",
              "                   director  \\\n",
              "4178         Frank Darabont   \n",
              "7269   Francis Ford Coppola   \n",
              "650         Damien Chazelle   \n",
              "2875      Christopher Nolan   \n",
              "2409          David Fincher   \n",
              "...                     ...   \n",
              "3822            Mark Atkins   \n",
              "7235    Darrell James Roodt   \n",
              "4859      Lawrence Kasanoff   \n",
              "4882            Brett Kelly   \n",
              "10865      Harold P. Warren   \n",
              "\n",
              "                                                 tagline  ... Western Foreign  \\\n",
              "4178   Fear can hold you prisoner. Hope can set you f...  ...       0       0   \n",
              "7269                          An offer you can't refuse.  ...       0       0   \n",
              "650      The road to greatness can take you to the edge.  ...       0       0   \n",
              "2875                                     Why So Serious?  ...       0       0   \n",
              "2409   How much can you know about yourself if you've...  ...       0       0   \n",
              "...                                                  ...  ...     ...     ...   \n",
              "3822   Just When You Thought You Were Safe Out of the...  ...       0       0   \n",
              "7235                      In space, the sun never rises.  ...       0       0   \n",
              "4859                         When good food... goes bad!  ...       0       0   \n",
              "4882                              Dinosaur from the deep  ...       0       0   \n",
              "10865       It's Shocking! It's Beyond Your Imagination!  ...       0       0   \n",
              "\n",
              "       Family TV Movie Adventure Drama  Animation  Romance  Music  Mystery  \n",
              "4178        0        0         0     1          0        0      0        0  \n",
              "7269        0        0         0     1          0        0      0        0  \n",
              "650         0        0         0     1          0        0      1        0  \n",
              "2875        0        0         0     1          0        0      0        0  \n",
              "2409        0        0         0     1          0        0      0        0  \n",
              "...       ...      ...       ...   ...        ...      ...    ...      ...  \n",
              "3822        0        0         0     0          0        0      0        0  \n",
              "7235        0        0         0     0          0        0      0        0  \n",
              "4859        1        0         0     0          1        0      0        0  \n",
              "4882        0        0         0     0          0        0      0        0  \n",
              "10865       0        0         0     0          0        0      0        0  \n",
              "\n",
              "[9890 rows x 43 columns]"
            ]
          },
          "execution_count": 33,
          "metadata": {},
          "output_type": "execute_result"
        }
      ],
      "source": [
        "#here we use the function add_genres to apply 0,1 to each column of genres if the source contain one or more\n",
        "def add_genres(df,unique_genres=unique_genres):\n",
        "    df[unique_genres] = [1 if x in df['genres'].split(sep='|') else 0 for x in unique_genres]\n",
        "    return df[unique_genres]\n",
        "q_movies[unique_genres] = q_movies.apply(add_genres, axis=1)\n",
        "q_movies"
      ]
    },
    {
      "cell_type": "code",
      "execution_count": 34,
      "metadata": {
        "colab": {
          "base_uri": "https://localhost:8080/"
        },
        "id": "GMV1fbanOsC6",
        "outputId": "acd0c98c-3d55-439e-83ec-1c2d659f0e76"
      },
      "outputs": [
        {
          "data": {
            "text/html": [
              "<div>\n",
              "<style scoped>\n",
              "    .dataframe tbody tr th:only-of-type {\n",
              "        vertical-align: middle;\n",
              "    }\n",
              "\n",
              "    .dataframe tbody tr th {\n",
              "        vertical-align: top;\n",
              "    }\n",
              "\n",
              "    .dataframe thead th {\n",
              "        text-align: right;\n",
              "    }\n",
              "</style>\n",
              "<table border=\"1\" class=\"dataframe\">\n",
              "  <thead>\n",
              "    <tr style=\"text-align: right;\">\n",
              "      <th></th>\n",
              "      <th>genre</th>\n",
              "      <th>average_score</th>\n",
              "    </tr>\n",
              "  </thead>\n",
              "  <tbody>\n",
              "    <tr>\n",
              "      <th>17</th>\n",
              "      <td>Animation</td>\n",
              "      <td>5.224182</td>\n",
              "    </tr>\n",
              "    <tr>\n",
              "      <th>10</th>\n",
              "      <td>War</td>\n",
              "      <td>5.133359</td>\n",
              "    </tr>\n",
              "    <tr>\n",
              "      <th>4</th>\n",
              "      <td>History</td>\n",
              "      <td>5.043671</td>\n",
              "    </tr>\n",
              "    <tr>\n",
              "      <th>0</th>\n",
              "      <td>Crime</td>\n",
              "      <td>5.030205</td>\n",
              "    </tr>\n",
              "    <tr>\n",
              "      <th>15</th>\n",
              "      <td>Adventure</td>\n",
              "      <td>5.026870</td>\n",
              "    </tr>\n",
              "    <tr>\n",
              "      <th>19</th>\n",
              "      <td>Music</td>\n",
              "      <td>4.892194</td>\n",
              "    </tr>\n",
              "  </tbody>\n",
              "</table>\n",
              "</div>"
            ],
            "text/plain": [
              "        genre  average_score\n",
              "17  Animation       5.224182\n",
              "10        War       5.133359\n",
              "4     History       5.043671\n",
              "0       Crime       5.030205\n",
              "15  Adventure       5.026870\n",
              "19      Music       4.892194"
            ]
          },
          "execution_count": 34,
          "metadata": {},
          "output_type": "execute_result"
        }
      ],
      "source": [
        "#list top 6 best rated genres\n",
        "import operator\n",
        "\n",
        "genres_score = {}\n",
        "for col in unique_genres:\n",
        "  genres_score[col] = q_movies.loc[q_movies[col] == 1]['score'].mean()\n",
        "top6_genre_df = pd.DataFrame(list(genres_score.items()),columns = ['genre','average_score'])\n",
        "top6_genre_df = top6_genre_df.sort_values(by='average_score',ascending=False)[:6]\n",
        "top6_genre_df\n"
      ]
    },
    {
      "cell_type": "code",
      "execution_count": 35,
      "metadata": {},
      "outputs": [
        {
          "data": {
            "text/plain": [
              "'1.23'"
            ]
          },
          "execution_count": 35,
          "metadata": {},
          "output_type": "execute_result"
        }
      ],
      "source": [
        "\"{:.2f}\".format(1.234)"
      ]
    },
    {
      "cell_type": "code",
      "execution_count": 36,
      "metadata": {},
      "outputs": [
        {
          "data": {
            "image/png": "[encoded data removed]",
            "text/plain": [
              "<Figure size 720x432 with 1 Axes>"
            ]
          },
          "metadata": {
            "needs_background": "light"
          },
          "output_type": "display_data"
        }
      ],
      "source": [
        "fig, ax = plt.subplots()\n",
        "fig.set_size_inches(10, 6)\n",
        "\n",
        "plt.barh(top6_genre_df['genre'], top6_genre_df['average_score'])\n",
        "plt.gca().invert_yaxis()\n",
        "plt.margins(x=.1)\n",
        "\n",
        "for i, v in enumerate(top6_genre_df['average_score']):\n",
        "    ax.text(v, i + .25, \"{:.2f}\".format(v), color='blue', fontweight='bold')\n",
        "\n",
        "plt.show()\n",
        "\n",
        "\n"
      ]
    },
    {
      "cell_type": "markdown",
      "metadata": {},
      "source": [
        "The graph shows the top 6 genres of all time. In the 1st place come Animation followed by War. This graph means that Animation had the highest rate of all time."
      ]
    },
    {
      "cell_type": "markdown",
      "metadata": {},
      "source": [
        "### Research Question 3  (Predict movies revenue)?"
      ]
    },
    {
      "cell_type": "code",
      "execution_count": 37,
      "metadata": {},
      "outputs": [
        {
          "name": "stdout",
          "output_type": "stream",
          "text": [
            "<class 'pandas.core.frame.DataFrame'>\n",
            "Int64Index: 10865 entries, 0 to 10865\n",
            "Data columns (total 22 columns):\n",
            " #   Column                Non-Null Count  Dtype  \n",
            "---  ------                --------------  -----  \n",
            " 0   id                    10865 non-null  int64  \n",
            " 1   imdb_id               10855 non-null  object \n",
            " 2   popularity            10865 non-null  float64\n",
            " 3   budget                10865 non-null  int64  \n",
            " 4   revenue               10865 non-null  int64  \n",
            " 5   original_title        10865 non-null  object \n",
            " 6   cast                  10789 non-null  object \n",
            " 7   homepage              2936 non-null   object \n",
            " 8   director              10821 non-null  object \n",
            " 9   tagline               8041 non-null   object \n",
            " 10  keywords              9372 non-null   object \n",
            " 11  overview              10861 non-null  object \n",
            " 12  runtime               10865 non-null  int64  \n",
            " 13  genres                10842 non-null  object \n",
            " 14  production_companies  9835 non-null   object \n",
            " 15  release_date          10865 non-null  object \n",
            " 16  vote_count            10865 non-null  int64  \n",
            " 17  vote_average          10865 non-null  float64\n",
            " 18  release_year          10865 non-null  int64  \n",
            " 19  budget_adj            10865 non-null  float64\n",
            " 20  revenue_adj           10865 non-null  float64\n",
            " 21  score                 10865 non-null  float64\n",
            "dtypes: float64(5), int64(6), object(11)\n",
            "memory usage: 1.9+ MB\n"
          ]
        }
      ],
      "source": [
        "df.info()"
      ]
    },
    {
      "cell_type": "code",
      "execution_count": 38,
      "metadata": {},
      "outputs": [],
      "source": [
        "df['genres'].fillna('Unknown', inplace=True)\n",
        "df['cast'].fillna('Unknown', inplace=True)\n",
        "df['keywords'].fillna('Unknown', inplace=True)\n",
        "df['production_companies'].fillna('Unknown', inplace=True)\n",
        "df['homepage'].fillna('Unknown', inplace=True)\n",
        "\n"
      ]
    },
    {
      "cell_type": "code",
      "execution_count": 39,
      "metadata": {},
      "outputs": [
        {
          "data": {
            "text/plain": [
              "7880"
            ]
          },
          "execution_count": 39,
          "metadata": {},
          "output_type": "execute_result"
        }
      ],
      "source": [
        "#here we get the list of unique genres\n",
        "col = 'production_companies'\n",
        "unique_values = set()\n",
        "\n",
        "def split_adjusted(df, unique_values=unique_values, col=col):\n",
        "    row_keywords = df[col].split(sep='|')\n",
        "    unique_values.update(set(row_keywords))\n",
        "\n",
        "df.apply(split_adjusted, axis=1)\n",
        "unique_values = list(unique_values)\n",
        "len(unique_values)"
      ]
    },
    {
      "cell_type": "code",
      "execution_count": 40,
      "metadata": {},
      "outputs": [
        {
          "data": {
            "text/plain": [
              "0       2015-06-09\n",
              "1       2015-05-13\n",
              "2       2015-03-18\n",
              "3       2015-12-15\n",
              "4       2015-04-01\n",
              "           ...    \n",
              "10861   2066-06-15\n",
              "10862   2066-12-21\n",
              "10863   2066-01-01\n",
              "10864   2066-11-02\n",
              "10865   2066-11-15\n",
              "Name: release_date, Length: 10865, dtype: datetime64[ns]"
            ]
          },
          "execution_count": 40,
          "metadata": {},
          "output_type": "execute_result"
        }
      ],
      "source": [
        "df['release_date'] = pd.to_datetime(df['release_date'])\n",
        "df['release_date']"
      ]
    },
    {
      "cell_type": "code",
      "execution_count": 41,
      "metadata": {},
      "outputs": [
        {
          "data": {
            "text/html": [
              "<div>\n",
              "<style scoped>\n",
              "    .dataframe tbody tr th:only-of-type {\n",
              "        vertical-align: middle;\n",
              "    }\n",
              "\n",
              "    .dataframe tbody tr th {\n",
              "        vertical-align: top;\n",
              "    }\n",
              "\n",
              "    .dataframe thead th {\n",
              "        text-align: right;\n",
              "    }\n",
              "</style>\n",
              "<table border=\"1\" class=\"dataframe\">\n",
              "  <thead>\n",
              "    <tr style=\"text-align: right;\">\n",
              "      <th></th>\n",
              "      <th>id</th>\n",
              "      <th>imdb_id</th>\n",
              "      <th>popularity</th>\n",
              "      <th>budget</th>\n",
              "      <th>revenue</th>\n",
              "      <th>original_title</th>\n",
              "      <th>cast</th>\n",
              "      <th>homepage</th>\n",
              "      <th>director</th>\n",
              "      <th>tagline</th>\n",
              "      <th>...</th>\n",
              "      <th>genres</th>\n",
              "      <th>production_companies</th>\n",
              "      <th>release_date</th>\n",
              "      <th>vote_count</th>\n",
              "      <th>vote_average</th>\n",
              "      <th>release_year</th>\n",
              "      <th>budget_adj</th>\n",
              "      <th>revenue_adj</th>\n",
              "      <th>score</th>\n",
              "      <th>release_month</th>\n",
              "    </tr>\n",
              "  </thead>\n",
              "  <tbody>\n",
              "    <tr>\n",
              "      <th>0</th>\n",
              "      <td>135397</td>\n",
              "      <td>tt0369610</td>\n",
              "      <td>32.985763</td>\n",
              "      <td>150000000</td>\n",
              "      <td>1513528810</td>\n",
              "      <td>Jurassic World</td>\n",
              "      <td>Chris Pratt|Bryce Dallas Howard|Irrfan Khan|Vi...</td>\n",
              "      <td>http://www.jurassicworld.com/</td>\n",
              "      <td>Colin Trevorrow</td>\n",
              "      <td>The park is open.</td>\n",
              "      <td>...</td>\n",
              "      <td>Action|Adventure|Science Fiction|Thriller</td>\n",
              "      <td>Universal Studios|Amblin Entertainment|Legenda...</td>\n",
              "      <td>2015-06-09</td>\n",
              "      <td>5562</td>\n",
              "      <td>6.5</td>\n",
              "      <td>2015</td>\n",
              "      <td>1.379999e+08</td>\n",
              "      <td>1.392446e+09</td>\n",
              "      <td>6.486006</td>\n",
              "      <td>6</td>\n",
              "    </tr>\n",
              "    <tr>\n",
              "      <th>1</th>\n",
              "      <td>76341</td>\n",
              "      <td>tt1392190</td>\n",
              "      <td>28.419936</td>\n",
              "      <td>150000000</td>\n",
              "      <td>378436354</td>\n",
              "      <td>Mad Max: Fury Road</td>\n",
              "      <td>Tom Hardy|Charlize Theron|Hugh Keays-Byrne|Nic...</td>\n",
              "      <td>http://www.madmaxmovie.com/</td>\n",
              "      <td>George Miller</td>\n",
              "      <td>What a Lovely Day.</td>\n",
              "      <td>...</td>\n",
              "      <td>Action|Adventure|Science Fiction|Thriller</td>\n",
              "      <td>Village Roadshow Pictures|Kennedy Miller Produ...</td>\n",
              "      <td>2015-05-13</td>\n",
              "      <td>6185</td>\n",
              "      <td>7.1</td>\n",
              "      <td>2015</td>\n",
              "      <td>1.379999e+08</td>\n",
              "      <td>3.481613e+08</td>\n",
              "      <td>7.086251</td>\n",
              "      <td>5</td>\n",
              "    </tr>\n",
              "    <tr>\n",
              "      <th>2</th>\n",
              "      <td>262500</td>\n",
              "      <td>tt2908446</td>\n",
              "      <td>13.112507</td>\n",
              "      <td>110000000</td>\n",
              "      <td>295238201</td>\n",
              "      <td>Insurgent</td>\n",
              "      <td>Shailene Woodley|Theo James|Kate Winslet|Ansel...</td>\n",
              "      <td>http://www.thedivergentseries.movie/#insurgent</td>\n",
              "      <td>Robert Schwentke</td>\n",
              "      <td>One Choice Can Destroy You</td>\n",
              "      <td>...</td>\n",
              "      <td>Adventure|Science Fiction|Thriller</td>\n",
              "      <td>Summit Entertainment|Mandeville Films|Red Wago...</td>\n",
              "      <td>2015-03-18</td>\n",
              "      <td>2480</td>\n",
              "      <td>6.3</td>\n",
              "      <td>2015</td>\n",
              "      <td>1.012000e+08</td>\n",
              "      <td>2.716190e+08</td>\n",
              "      <td>6.269663</td>\n",
              "      <td>3</td>\n",
              "    </tr>\n",
              "    <tr>\n",
              "      <th>3</th>\n",
              "      <td>140607</td>\n",
              "      <td>tt2488496</td>\n",
              "      <td>11.173104</td>\n",
              "      <td>200000000</td>\n",
              "      <td>2068178225</td>\n",
              "      <td>Star Wars: The Force Awakens</td>\n",
              "      <td>Harrison Ford|Mark Hamill|Carrie Fisher|Adam D...</td>\n",
              "      <td>http://www.starwars.com/films/star-wars-episod...</td>\n",
              "      <td>J.J. Abrams</td>\n",
              "      <td>Every generation has a story.</td>\n",
              "      <td>...</td>\n",
              "      <td>Action|Adventure|Science Fiction|Fantasy</td>\n",
              "      <td>Lucasfilm|Truenorth Productions|Bad Robot</td>\n",
              "      <td>2015-12-15</td>\n",
              "      <td>5292</td>\n",
              "      <td>7.5</td>\n",
              "      <td>2015</td>\n",
              "      <td>1.839999e+08</td>\n",
              "      <td>1.902723e+09</td>\n",
              "      <td>7.483032</td>\n",
              "      <td>12</td>\n",
              "    </tr>\n",
              "    <tr>\n",
              "      <th>4</th>\n",
              "      <td>168259</td>\n",
              "      <td>tt2820852</td>\n",
              "      <td>9.335014</td>\n",
              "      <td>190000000</td>\n",
              "      <td>1506249360</td>\n",
              "      <td>Furious 7</td>\n",
              "      <td>Vin Diesel|Paul Walker|Jason Statham|Michelle ...</td>\n",
              "      <td>http://www.furious7.com/</td>\n",
              "      <td>James Wan</td>\n",
              "      <td>Vengeance Hits Home</td>\n",
              "      <td>...</td>\n",
              "      <td>Action|Crime|Thriller</td>\n",
              "      <td>Universal Pictures|Original Film|Media Rights ...</td>\n",
              "      <td>2015-04-01</td>\n",
              "      <td>2947</td>\n",
              "      <td>7.3</td>\n",
              "      <td>2015</td>\n",
              "      <td>1.747999e+08</td>\n",
              "      <td>1.385749e+09</td>\n",
              "      <td>7.270395</td>\n",
              "      <td>4</td>\n",
              "    </tr>\n",
              "  </tbody>\n",
              "</table>\n",
              "<p>5 rows × 23 columns</p>\n",
              "</div>"
            ],
            "text/plain": [
              "       id    imdb_id  popularity     budget     revenue  \\\n",
              "0  135397  tt0369610   32.985763  150000000  1513528810   \n",
              "1   76341  tt1392190   28.419936  150000000   378436354   \n",
              "2  262500  tt2908446   13.112507  110000000   295238201   \n",
              "3  140607  tt2488496   11.173104  200000000  2068178225   \n",
              "4  168259  tt2820852    9.335014  190000000  1506249360   \n",
              "\n",
              "                 original_title  \\\n",
              "0                Jurassic World   \n",
              "1            Mad Max: Fury Road   \n",
              "2                     Insurgent   \n",
              "3  Star Wars: The Force Awakens   \n",
              "4                     Furious 7   \n",
              "\n",
              "                                                cast  \\\n",
              "0  Chris Pratt|Bryce Dallas Howard|Irrfan Khan|Vi...   \n",
              "1  Tom Hardy|Charlize Theron|Hugh Keays-Byrne|Nic...   \n",
              "2  Shailene Woodley|Theo James|Kate Winslet|Ansel...   \n",
              "3  Harrison Ford|Mark Hamill|Carrie Fisher|Adam D...   \n",
              "4  Vin Diesel|Paul Walker|Jason Statham|Michelle ...   \n",
              "\n",
              "                                            homepage          director  \\\n",
              "0                      http://www.jurassicworld.com/   Colin Trevorrow   \n",
              "1                        http://www.madmaxmovie.com/     George Miller   \n",
              "2     http://www.thedivergentseries.movie/#insurgent  Robert Schwentke   \n",
              "3  http://www.starwars.com/films/star-wars-episod...       J.J. Abrams   \n",
              "4                           http://www.furious7.com/         James Wan   \n",
              "\n",
              "                         tagline  ...  \\\n",
              "0              The park is open.  ...   \n",
              "1             What a Lovely Day.  ...   \n",
              "2     One Choice Can Destroy You  ...   \n",
              "3  Every generation has a story.  ...   \n",
              "4            Vengeance Hits Home  ...   \n",
              "\n",
              "                                      genres  \\\n",
              "0  Action|Adventure|Science Fiction|Thriller   \n",
              "1  Action|Adventure|Science Fiction|Thriller   \n",
              "2         Adventure|Science Fiction|Thriller   \n",
              "3   Action|Adventure|Science Fiction|Fantasy   \n",
              "4                      Action|Crime|Thriller   \n",
              "\n",
              "                                production_companies  release_date vote_count  \\\n",
              "0  Universal Studios|Amblin Entertainment|Legenda...    2015-06-09       5562   \n",
              "1  Village Roadshow Pictures|Kennedy Miller Produ...    2015-05-13       6185   \n",
              "2  Summit Entertainment|Mandeville Films|Red Wago...    2015-03-18       2480   \n",
              "3          Lucasfilm|Truenorth Productions|Bad Robot    2015-12-15       5292   \n",
              "4  Universal Pictures|Original Film|Media Rights ...    2015-04-01       2947   \n",
              "\n",
              "  vote_average release_year    budget_adj   revenue_adj     score  \\\n",
              "0          6.5         2015  1.379999e+08  1.392446e+09  6.486006   \n",
              "1          7.1         2015  1.379999e+08  3.481613e+08  7.086251   \n",
              "2          6.3         2015  1.012000e+08  2.716190e+08  6.269663   \n",
              "3          7.5         2015  1.839999e+08  1.902723e+09  7.483032   \n",
              "4          7.3         2015  1.747999e+08  1.385749e+09  7.270395   \n",
              "\n",
              "   release_month  \n",
              "0              6  \n",
              "1              5  \n",
              "2              3  \n",
              "3             12  \n",
              "4              4  \n",
              "\n",
              "[5 rows x 23 columns]"
            ]
          },
          "execution_count": 41,
          "metadata": {},
          "output_type": "execute_result"
        }
      ],
      "source": [
        "df['release_month'] = df['release_date'].dt.month\n",
        "\n",
        "df.head()"
      ]
    },
    {
      "cell_type": "code",
      "execution_count": 42,
      "metadata": {},
      "outputs": [
        {
          "data": {
            "text/html": [
              "<div>\n",
              "<style scoped>\n",
              "    .dataframe tbody tr th:only-of-type {\n",
              "        vertical-align: middle;\n",
              "    }\n",
              "\n",
              "    .dataframe tbody tr th {\n",
              "        vertical-align: top;\n",
              "    }\n",
              "\n",
              "    .dataframe thead th {\n",
              "        text-align: right;\n",
              "    }\n",
              "</style>\n",
              "<table border=\"1\" class=\"dataframe\">\n",
              "  <thead>\n",
              "    <tr style=\"text-align: right;\">\n",
              "      <th></th>\n",
              "      <th>id</th>\n",
              "      <th>imdb_id</th>\n",
              "      <th>popularity</th>\n",
              "      <th>budget</th>\n",
              "      <th>revenue</th>\n",
              "      <th>original_title</th>\n",
              "      <th>cast</th>\n",
              "      <th>homepage</th>\n",
              "      <th>director</th>\n",
              "      <th>tagline</th>\n",
              "      <th>...</th>\n",
              "      <th>Western</th>\n",
              "      <th>Foreign</th>\n",
              "      <th>Family</th>\n",
              "      <th>TV Movie</th>\n",
              "      <th>Adventure</th>\n",
              "      <th>Drama</th>\n",
              "      <th>Animation</th>\n",
              "      <th>Romance</th>\n",
              "      <th>Music</th>\n",
              "      <th>Mystery</th>\n",
              "    </tr>\n",
              "  </thead>\n",
              "  <tbody>\n",
              "    <tr>\n",
              "      <th>0</th>\n",
              "      <td>135397</td>\n",
              "      <td>tt0369610</td>\n",
              "      <td>32.985763</td>\n",
              "      <td>150000000</td>\n",
              "      <td>1513528810</td>\n",
              "      <td>Jurassic World</td>\n",
              "      <td>Chris Pratt|Bryce Dallas Howard|Irrfan Khan|Vi...</td>\n",
              "      <td>http://www.jurassicworld.com/</td>\n",
              "      <td>Colin Trevorrow</td>\n",
              "      <td>The park is open.</td>\n",
              "      <td>...</td>\n",
              "      <td>0</td>\n",
              "      <td>0</td>\n",
              "      <td>0</td>\n",
              "      <td>0</td>\n",
              "      <td>1</td>\n",
              "      <td>0</td>\n",
              "      <td>0</td>\n",
              "      <td>0</td>\n",
              "      <td>0</td>\n",
              "      <td>0</td>\n",
              "    </tr>\n",
              "    <tr>\n",
              "      <th>1</th>\n",
              "      <td>76341</td>\n",
              "      <td>tt1392190</td>\n",
              "      <td>28.419936</td>\n",
              "      <td>150000000</td>\n",
              "      <td>378436354</td>\n",
              "      <td>Mad Max: Fury Road</td>\n",
              "      <td>Tom Hardy|Charlize Theron|Hugh Keays-Byrne|Nic...</td>\n",
              "      <td>http://www.madmaxmovie.com/</td>\n",
              "      <td>George Miller</td>\n",
              "      <td>What a Lovely Day.</td>\n",
              "      <td>...</td>\n",
              "      <td>0</td>\n",
              "      <td>0</td>\n",
              "      <td>0</td>\n",
              "      <td>0</td>\n",
              "      <td>1</td>\n",
              "      <td>0</td>\n",
              "      <td>0</td>\n",
              "      <td>0</td>\n",
              "      <td>0</td>\n",
              "      <td>0</td>\n",
              "    </tr>\n",
              "    <tr>\n",
              "      <th>2</th>\n",
              "      <td>262500</td>\n",
              "      <td>tt2908446</td>\n",
              "      <td>13.112507</td>\n",
              "      <td>110000000</td>\n",
              "      <td>295238201</td>\n",
              "      <td>Insurgent</td>\n",
              "      <td>Shailene Woodley|Theo James|Kate Winslet|Ansel...</td>\n",
              "      <td>http://www.thedivergentseries.movie/#insurgent</td>\n",
              "      <td>Robert Schwentke</td>\n",
              "      <td>One Choice Can Destroy You</td>\n",
              "      <td>...</td>\n",
              "      <td>0</td>\n",
              "      <td>0</td>\n",
              "      <td>0</td>\n",
              "      <td>0</td>\n",
              "      <td>1</td>\n",
              "      <td>0</td>\n",
              "      <td>0</td>\n",
              "      <td>0</td>\n",
              "      <td>0</td>\n",
              "      <td>0</td>\n",
              "    </tr>\n",
              "    <tr>\n",
              "      <th>3</th>\n",
              "      <td>140607</td>\n",
              "      <td>tt2488496</td>\n",
              "      <td>11.173104</td>\n",
              "      <td>200000000</td>\n",
              "      <td>2068178225</td>\n",
              "      <td>Star Wars: The Force Awakens</td>\n",
              "      <td>Harrison Ford|Mark Hamill|Carrie Fisher|Adam D...</td>\n",
              "      <td>http://www.starwars.com/films/star-wars-episod...</td>\n",
              "      <td>J.J. Abrams</td>\n",
              "      <td>Every generation has a story.</td>\n",
              "      <td>...</td>\n",
              "      <td>0</td>\n",
              "      <td>0</td>\n",
              "      <td>0</td>\n",
              "      <td>0</td>\n",
              "      <td>1</td>\n",
              "      <td>0</td>\n",
              "      <td>0</td>\n",
              "      <td>0</td>\n",
              "      <td>0</td>\n",
              "      <td>0</td>\n",
              "    </tr>\n",
              "    <tr>\n",
              "      <th>4</th>\n",
              "      <td>168259</td>\n",
              "      <td>tt2820852</td>\n",
              "      <td>9.335014</td>\n",
              "      <td>190000000</td>\n",
              "      <td>1506249360</td>\n",
              "      <td>Furious 7</td>\n",
              "      <td>Vin Diesel|Paul Walker|Jason Statham|Michelle ...</td>\n",
              "      <td>http://www.furious7.com/</td>\n",
              "      <td>James Wan</td>\n",
              "      <td>Vengeance Hits Home</td>\n",
              "      <td>...</td>\n",
              "      <td>0</td>\n",
              "      <td>0</td>\n",
              "      <td>0</td>\n",
              "      <td>0</td>\n",
              "      <td>0</td>\n",
              "      <td>0</td>\n",
              "      <td>0</td>\n",
              "      <td>0</td>\n",
              "      <td>0</td>\n",
              "      <td>0</td>\n",
              "    </tr>\n",
              "  </tbody>\n",
              "</table>\n",
              "<p>5 rows × 44 columns</p>\n",
              "</div>"
            ],
            "text/plain": [
              "       id    imdb_id  popularity     budget     revenue  \\\n",
              "0  135397  tt0369610   32.985763  150000000  1513528810   \n",
              "1   76341  tt1392190   28.419936  150000000   378436354   \n",
              "2  262500  tt2908446   13.112507  110000000   295238201   \n",
              "3  140607  tt2488496   11.173104  200000000  2068178225   \n",
              "4  168259  tt2820852    9.335014  190000000  1506249360   \n",
              "\n",
              "                 original_title  \\\n",
              "0                Jurassic World   \n",
              "1            Mad Max: Fury Road   \n",
              "2                     Insurgent   \n",
              "3  Star Wars: The Force Awakens   \n",
              "4                     Furious 7   \n",
              "\n",
              "                                                cast  \\\n",
              "0  Chris Pratt|Bryce Dallas Howard|Irrfan Khan|Vi...   \n",
              "1  Tom Hardy|Charlize Theron|Hugh Keays-Byrne|Nic...   \n",
              "2  Shailene Woodley|Theo James|Kate Winslet|Ansel...   \n",
              "3  Harrison Ford|Mark Hamill|Carrie Fisher|Adam D...   \n",
              "4  Vin Diesel|Paul Walker|Jason Statham|Michelle ...   \n",
              "\n",
              "                                            homepage          director  \\\n",
              "0                      http://www.jurassicworld.com/   Colin Trevorrow   \n",
              "1                        http://www.madmaxmovie.com/     George Miller   \n",
              "2     http://www.thedivergentseries.movie/#insurgent  Robert Schwentke   \n",
              "3  http://www.starwars.com/films/star-wars-episod...       J.J. Abrams   \n",
              "4                           http://www.furious7.com/         James Wan   \n",
              "\n",
              "                         tagline  ... Western Foreign  Family TV Movie  \\\n",
              "0              The park is open.  ...       0       0       0        0   \n",
              "1             What a Lovely Day.  ...       0       0       0        0   \n",
              "2     One Choice Can Destroy You  ...       0       0       0        0   \n",
              "3  Every generation has a story.  ...       0       0       0        0   \n",
              "4            Vengeance Hits Home  ...       0       0       0        0   \n",
              "\n",
              "  Adventure Drama  Animation  Romance  Music  Mystery  \n",
              "0         1     0          0        0      0        0  \n",
              "1         1     0          0        0      0        0  \n",
              "2         1     0          0        0      0        0  \n",
              "3         1     0          0        0      0        0  \n",
              "4         0     0          0        0      0        0  \n",
              "\n",
              "[5 rows x 44 columns]"
            ]
          },
          "execution_count": 42,
          "metadata": {},
          "output_type": "execute_result"
        }
      ],
      "source": [
        "df[unique_genres] = 0\n",
        "df[unique_genres] = df.apply(add_genres, axis=1)\n",
        "df.head()"
      ]
    },
    {
      "cell_type": "code",
      "execution_count": 45,
      "metadata": {},
      "outputs": [
        {
          "data": {
            "text/plain": [
              "director\n",
              " FrÃ©dÃ©ric Jardin            0.022222\n",
              "A. Todd Smith                 0.022222\n",
              "A.R. Murugadoss               0.022222\n",
              "Aaron Aites                   0.022222\n",
              "Aaron Blaise|Robert Walker    0.022222\n",
              "                                ...   \n",
              "Ã‡aÄŸan Irmak                 0.022222\n",
              "Ã‰mile Gaudreault             0.022222\n",
              "Ã‰ric Besnard                 0.022222\n",
              "Ã‰tienne Chatiliez            0.066667\n",
              "Ã€lex Pastor|David Pastor     0.022222\n",
              "Name: id, Length: 5067, dtype: float64"
            ]
          },
          "execution_count": 45,
          "metadata": {},
          "output_type": "execute_result"
        }
      ],
      "source": [
        "director_popularity = df.groupby('director')['id'].count() / df.groupby('director')['id'].count().max()\n",
        "director_popularity"
      ]
    },
    {
      "cell_type": "code",
      "execution_count": 46,
      "metadata": {},
      "outputs": [
        {
          "data": {
            "text/plain": [
              "director\n",
              "Bobby Farrelly|Peter Farrelly               10\n",
              "Jason Friedberg|Aaron Seltzer                7\n",
              "Jules Bass|Arthur Rankin, Jr.                6\n",
              "Don Bluth|Gary Goldman                       6\n",
              "Joe Berlinger|Bruce Sinofsky                 4\n",
              "                                            ..\n",
              "Graham Annable|Anthony Stacchi               1\n",
              "Grant Harvey|Steven Hoban|Brett Sullivan     1\n",
              "Greg Olliver|Wes Orshoski                    1\n",
              "Gregg Godfrey|Jeremy Rawle                   1\n",
              "Ã€lex Pastor|David Pastor                    1\n",
              "Name: id, Length: 646, dtype: int64"
            ]
          },
          "execution_count": 46,
          "metadata": {},
          "output_type": "execute_result"
        }
      ],
      "source": [
        "# checking if there are movies that has multiple director\n",
        "c = 0\n",
        "multiple_director = []\n",
        "for i in director_popularity.index:\n",
        "    if i.find('|') != -1:\n",
        "        multiple_director.append(i)\n",
        "        c += 1\n",
        "df[df['director'].isin(multiple_director)].groupby('director')['id'].count().sort_values(ascending=False)"
      ]
    },
    {
      "cell_type": "code",
      "execution_count": 47,
      "metadata": {},
      "outputs": [
        {
          "data": {
            "text/html": [
              "<div>\n",
              "<style scoped>\n",
              "    .dataframe tbody tr th:only-of-type {\n",
              "        vertical-align: middle;\n",
              "    }\n",
              "\n",
              "    .dataframe tbody tr th {\n",
              "        vertical-align: top;\n",
              "    }\n",
              "\n",
              "    .dataframe thead th {\n",
              "        text-align: right;\n",
              "    }\n",
              "</style>\n",
              "<table border=\"1\" class=\"dataframe\">\n",
              "  <thead>\n",
              "    <tr style=\"text-align: right;\">\n",
              "      <th></th>\n",
              "      <th>id_x</th>\n",
              "      <th>imdb_id</th>\n",
              "      <th>popularity</th>\n",
              "      <th>budget</th>\n",
              "      <th>revenue</th>\n",
              "      <th>original_title</th>\n",
              "      <th>cast</th>\n",
              "      <th>homepage</th>\n",
              "      <th>director</th>\n",
              "      <th>tagline</th>\n",
              "      <th>...</th>\n",
              "      <th>Foreign</th>\n",
              "      <th>Family</th>\n",
              "      <th>TV Movie</th>\n",
              "      <th>Adventure</th>\n",
              "      <th>Drama</th>\n",
              "      <th>Animation</th>\n",
              "      <th>Romance</th>\n",
              "      <th>Music</th>\n",
              "      <th>Mystery</th>\n",
              "      <th>id_y</th>\n",
              "    </tr>\n",
              "  </thead>\n",
              "  <tbody>\n",
              "    <tr>\n",
              "      <th>0</th>\n",
              "      <td>135397</td>\n",
              "      <td>tt0369610</td>\n",
              "      <td>32.985763</td>\n",
              "      <td>150000000</td>\n",
              "      <td>1513528810</td>\n",
              "      <td>Jurassic World</td>\n",
              "      <td>Chris Pratt|Bryce Dallas Howard|Irrfan Khan|Vi...</td>\n",
              "      <td>http://www.jurassicworld.com/</td>\n",
              "      <td>Colin Trevorrow</td>\n",
              "      <td>The park is open.</td>\n",
              "      <td>...</td>\n",
              "      <td>0</td>\n",
              "      <td>0</td>\n",
              "      <td>0</td>\n",
              "      <td>1</td>\n",
              "      <td>0</td>\n",
              "      <td>0</td>\n",
              "      <td>0</td>\n",
              "      <td>0</td>\n",
              "      <td>0</td>\n",
              "      <td>0.044444</td>\n",
              "    </tr>\n",
              "    <tr>\n",
              "      <th>1</th>\n",
              "      <td>76341</td>\n",
              "      <td>tt1392190</td>\n",
              "      <td>28.419936</td>\n",
              "      <td>150000000</td>\n",
              "      <td>378436354</td>\n",
              "      <td>Mad Max: Fury Road</td>\n",
              "      <td>Tom Hardy|Charlize Theron|Hugh Keays-Byrne|Nic...</td>\n",
              "      <td>http://www.madmaxmovie.com/</td>\n",
              "      <td>George Miller</td>\n",
              "      <td>What a Lovely Day.</td>\n",
              "      <td>...</td>\n",
              "      <td>0</td>\n",
              "      <td>0</td>\n",
              "      <td>0</td>\n",
              "      <td>1</td>\n",
              "      <td>0</td>\n",
              "      <td>0</td>\n",
              "      <td>0</td>\n",
              "      <td>0</td>\n",
              "      <td>0</td>\n",
              "      <td>0.177778</td>\n",
              "    </tr>\n",
              "    <tr>\n",
              "      <th>2</th>\n",
              "      <td>262500</td>\n",
              "      <td>tt2908446</td>\n",
              "      <td>13.112507</td>\n",
              "      <td>110000000</td>\n",
              "      <td>295238201</td>\n",
              "      <td>Insurgent</td>\n",
              "      <td>Shailene Woodley|Theo James|Kate Winslet|Ansel...</td>\n",
              "      <td>http://www.thedivergentseries.movie/#insurgent</td>\n",
              "      <td>Robert Schwentke</td>\n",
              "      <td>One Choice Can Destroy You</td>\n",
              "      <td>...</td>\n",
              "      <td>0</td>\n",
              "      <td>0</td>\n",
              "      <td>0</td>\n",
              "      <td>1</td>\n",
              "      <td>0</td>\n",
              "      <td>0</td>\n",
              "      <td>0</td>\n",
              "      <td>0</td>\n",
              "      <td>0</td>\n",
              "      <td>0.111111</td>\n",
              "    </tr>\n",
              "    <tr>\n",
              "      <th>3</th>\n",
              "      <td>140607</td>\n",
              "      <td>tt2488496</td>\n",
              "      <td>11.173104</td>\n",
              "      <td>200000000</td>\n",
              "      <td>2068178225</td>\n",
              "      <td>Star Wars: The Force Awakens</td>\n",
              "      <td>Harrison Ford|Mark Hamill|Carrie Fisher|Adam D...</td>\n",
              "      <td>http://www.starwars.com/films/star-wars-episod...</td>\n",
              "      <td>J.J. Abrams</td>\n",
              "      <td>Every generation has a story.</td>\n",
              "      <td>...</td>\n",
              "      <td>0</td>\n",
              "      <td>0</td>\n",
              "      <td>0</td>\n",
              "      <td>1</td>\n",
              "      <td>0</td>\n",
              "      <td>0</td>\n",
              "      <td>0</td>\n",
              "      <td>0</td>\n",
              "      <td>0</td>\n",
              "      <td>0.111111</td>\n",
              "    </tr>\n",
              "    <tr>\n",
              "      <th>4</th>\n",
              "      <td>168259</td>\n",
              "      <td>tt2820852</td>\n",
              "      <td>9.335014</td>\n",
              "      <td>190000000</td>\n",
              "      <td>1506249360</td>\n",
              "      <td>Furious 7</td>\n",
              "      <td>Vin Diesel|Paul Walker|Jason Statham|Michelle ...</td>\n",
              "      <td>http://www.furious7.com/</td>\n",
              "      <td>James Wan</td>\n",
              "      <td>Vengeance Hits Home</td>\n",
              "      <td>...</td>\n",
              "      <td>0</td>\n",
              "      <td>0</td>\n",
              "      <td>0</td>\n",
              "      <td>0</td>\n",
              "      <td>0</td>\n",
              "      <td>0</td>\n",
              "      <td>0</td>\n",
              "      <td>0</td>\n",
              "      <td>0</td>\n",
              "      <td>0.177778</td>\n",
              "    </tr>\n",
              "  </tbody>\n",
              "</table>\n",
              "<p>5 rows × 45 columns</p>\n",
              "</div>"
            ],
            "text/plain": [
              "     id_x    imdb_id  popularity     budget     revenue  \\\n",
              "0  135397  tt0369610   32.985763  150000000  1513528810   \n",
              "1   76341  tt1392190   28.419936  150000000   378436354   \n",
              "2  262500  tt2908446   13.112507  110000000   295238201   \n",
              "3  140607  tt2488496   11.173104  200000000  2068178225   \n",
              "4  168259  tt2820852    9.335014  190000000  1506249360   \n",
              "\n",
              "                 original_title  \\\n",
              "0                Jurassic World   \n",
              "1            Mad Max: Fury Road   \n",
              "2                     Insurgent   \n",
              "3  Star Wars: The Force Awakens   \n",
              "4                     Furious 7   \n",
              "\n",
              "                                                cast  \\\n",
              "0  Chris Pratt|Bryce Dallas Howard|Irrfan Khan|Vi...   \n",
              "1  Tom Hardy|Charlize Theron|Hugh Keays-Byrne|Nic...   \n",
              "2  Shailene Woodley|Theo James|Kate Winslet|Ansel...   \n",
              "3  Harrison Ford|Mark Hamill|Carrie Fisher|Adam D...   \n",
              "4  Vin Diesel|Paul Walker|Jason Statham|Michelle ...   \n",
              "\n",
              "                                            homepage          director  \\\n",
              "0                      http://www.jurassicworld.com/   Colin Trevorrow   \n",
              "1                        http://www.madmaxmovie.com/     George Miller   \n",
              "2     http://www.thedivergentseries.movie/#insurgent  Robert Schwentke   \n",
              "3  http://www.starwars.com/films/star-wars-episod...       J.J. Abrams   \n",
              "4                           http://www.furious7.com/         James Wan   \n",
              "\n",
              "                         tagline  ... Foreign Family  TV Movie Adventure  \\\n",
              "0              The park is open.  ...       0      0         0         1   \n",
              "1             What a Lovely Day.  ...       0      0         0         1   \n",
              "2     One Choice Can Destroy You  ...       0      0         0         1   \n",
              "3  Every generation has a story.  ...       0      0         0         1   \n",
              "4            Vengeance Hits Home  ...       0      0         0         0   \n",
              "\n",
              "  Drama Animation  Romance  Music  Mystery      id_y  \n",
              "0     0         0        0      0        0  0.044444  \n",
              "1     0         0        0      0        0  0.177778  \n",
              "2     0         0        0      0        0  0.111111  \n",
              "3     0         0        0      0        0  0.111111  \n",
              "4     0         0        0      0        0  0.177778  \n",
              "\n",
              "[5 rows x 45 columns]"
            ]
          },
          "execution_count": 47,
          "metadata": {},
          "output_type": "execute_result"
        }
      ],
      "source": [
        "df = df.merge(right= director_popularity, how='left', left_on='director', right_index=True, right_on='director')\n",
        "df.head(5)"
      ]
    },
    {
      "cell_type": "code",
      "execution_count": 51,
      "metadata": {},
      "outputs": [],
      "source": [
        "df.rename(columns={'id_x': 'id', 'id_y': 'director_popularity'}, inplace=True)"
      ]
    },
    {
      "cell_type": "code",
      "execution_count": 52,
      "metadata": {},
      "outputs": [],
      "source": [
        "df['director_popularity'].fillna(0, inplace=True)"
      ]
    },
    {
      "cell_type": "code",
      "execution_count": 54,
      "metadata": {},
      "outputs": [
        {
          "data": {
            "text/html": [
              "<div>\n",
              "<style scoped>\n",
              "    .dataframe tbody tr th:only-of-type {\n",
              "        vertical-align: middle;\n",
              "    }\n",
              "\n",
              "    .dataframe tbody tr th {\n",
              "        vertical-align: top;\n",
              "    }\n",
              "\n",
              "    .dataframe thead th {\n",
              "        text-align: right;\n",
              "    }\n",
              "</style>\n",
              "<table border=\"1\" class=\"dataframe\">\n",
              "  <thead>\n",
              "    <tr style=\"text-align: right;\">\n",
              "      <th></th>\n",
              "      <th>popularity</th>\n",
              "      <th>budget</th>\n",
              "      <th>revenue</th>\n",
              "      <th>runtime</th>\n",
              "      <th>release_year</th>\n",
              "      <th>score</th>\n",
              "      <th>release_month</th>\n",
              "      <th>Crime</th>\n",
              "      <th>Documentary</th>\n",
              "      <th>Fantasy</th>\n",
              "      <th>...</th>\n",
              "      <th>Foreign</th>\n",
              "      <th>Family</th>\n",
              "      <th>TV Movie</th>\n",
              "      <th>Adventure</th>\n",
              "      <th>Drama</th>\n",
              "      <th>Animation</th>\n",
              "      <th>Romance</th>\n",
              "      <th>Music</th>\n",
              "      <th>Mystery</th>\n",
              "      <th>director_popularity</th>\n",
              "    </tr>\n",
              "  </thead>\n",
              "  <tbody>\n",
              "    <tr>\n",
              "      <th>0</th>\n",
              "      <td>32.985763</td>\n",
              "      <td>150000000</td>\n",
              "      <td>1513528810</td>\n",
              "      <td>124</td>\n",
              "      <td>2015</td>\n",
              "      <td>6.486006</td>\n",
              "      <td>6</td>\n",
              "      <td>0</td>\n",
              "      <td>0</td>\n",
              "      <td>0</td>\n",
              "      <td>...</td>\n",
              "      <td>0</td>\n",
              "      <td>0</td>\n",
              "      <td>0</td>\n",
              "      <td>1</td>\n",
              "      <td>0</td>\n",
              "      <td>0</td>\n",
              "      <td>0</td>\n",
              "      <td>0</td>\n",
              "      <td>0</td>\n",
              "      <td>0.044444</td>\n",
              "    </tr>\n",
              "    <tr>\n",
              "      <th>1</th>\n",
              "      <td>28.419936</td>\n",
              "      <td>150000000</td>\n",
              "      <td>378436354</td>\n",
              "      <td>120</td>\n",
              "      <td>2015</td>\n",
              "      <td>7.086251</td>\n",
              "      <td>5</td>\n",
              "      <td>0</td>\n",
              "      <td>0</td>\n",
              "      <td>0</td>\n",
              "      <td>...</td>\n",
              "      <td>0</td>\n",
              "      <td>0</td>\n",
              "      <td>0</td>\n",
              "      <td>1</td>\n",
              "      <td>0</td>\n",
              "      <td>0</td>\n",
              "      <td>0</td>\n",
              "      <td>0</td>\n",
              "      <td>0</td>\n",
              "      <td>0.177778</td>\n",
              "    </tr>\n",
              "    <tr>\n",
              "      <th>2</th>\n",
              "      <td>13.112507</td>\n",
              "      <td>110000000</td>\n",
              "      <td>295238201</td>\n",
              "      <td>119</td>\n",
              "      <td>2015</td>\n",
              "      <td>6.269663</td>\n",
              "      <td>3</td>\n",
              "      <td>0</td>\n",
              "      <td>0</td>\n",
              "      <td>0</td>\n",
              "      <td>...</td>\n",
              "      <td>0</td>\n",
              "      <td>0</td>\n",
              "      <td>0</td>\n",
              "      <td>1</td>\n",
              "      <td>0</td>\n",
              "      <td>0</td>\n",
              "      <td>0</td>\n",
              "      <td>0</td>\n",
              "      <td>0</td>\n",
              "      <td>0.111111</td>\n",
              "    </tr>\n",
              "    <tr>\n",
              "      <th>3</th>\n",
              "      <td>11.173104</td>\n",
              "      <td>200000000</td>\n",
              "      <td>2068178225</td>\n",
              "      <td>136</td>\n",
              "      <td>2015</td>\n",
              "      <td>7.483032</td>\n",
              "      <td>12</td>\n",
              "      <td>0</td>\n",
              "      <td>0</td>\n",
              "      <td>1</td>\n",
              "      <td>...</td>\n",
              "      <td>0</td>\n",
              "      <td>0</td>\n",
              "      <td>0</td>\n",
              "      <td>1</td>\n",
              "      <td>0</td>\n",
              "      <td>0</td>\n",
              "      <td>0</td>\n",
              "      <td>0</td>\n",
              "      <td>0</td>\n",
              "      <td>0.111111</td>\n",
              "    </tr>\n",
              "    <tr>\n",
              "      <th>4</th>\n",
              "      <td>9.335014</td>\n",
              "      <td>190000000</td>\n",
              "      <td>1506249360</td>\n",
              "      <td>137</td>\n",
              "      <td>2015</td>\n",
              "      <td>7.270395</td>\n",
              "      <td>4</td>\n",
              "      <td>1</td>\n",
              "      <td>0</td>\n",
              "      <td>0</td>\n",
              "      <td>...</td>\n",
              "      <td>0</td>\n",
              "      <td>0</td>\n",
              "      <td>0</td>\n",
              "      <td>0</td>\n",
              "      <td>0</td>\n",
              "      <td>0</td>\n",
              "      <td>0</td>\n",
              "      <td>0</td>\n",
              "      <td>0</td>\n",
              "      <td>0.177778</td>\n",
              "    </tr>\n",
              "  </tbody>\n",
              "</table>\n",
              "<p>5 rows × 29 columns</p>\n",
              "</div>"
            ],
            "text/plain": [
              "   popularity     budget     revenue  runtime  release_year     score  \\\n",
              "0   32.985763  150000000  1513528810      124          2015  6.486006   \n",
              "1   28.419936  150000000   378436354      120          2015  7.086251   \n",
              "2   13.112507  110000000   295238201      119          2015  6.269663   \n",
              "3   11.173104  200000000  2068178225      136          2015  7.483032   \n",
              "4    9.335014  190000000  1506249360      137          2015  7.270395   \n",
              "\n",
              "   release_month  Crime  Documentary  Fantasy  ...  Foreign  Family  TV Movie  \\\n",
              "0              6      0            0        0  ...        0       0         0   \n",
              "1              5      0            0        0  ...        0       0         0   \n",
              "2              3      0            0        0  ...        0       0         0   \n",
              "3             12      0            0        1  ...        0       0         0   \n",
              "4              4      1            0        0  ...        0       0         0   \n",
              "\n",
              "   Adventure  Drama  Animation  Romance  Music  Mystery  director_popularity  \n",
              "0          1      0          0        0      0        0             0.044444  \n",
              "1          1      0          0        0      0        0             0.177778  \n",
              "2          1      0          0        0      0        0             0.111111  \n",
              "3          1      0          0        0      0        0             0.111111  \n",
              "4          0      0          0        0      0        0             0.177778  \n",
              "\n",
              "[5 rows x 29 columns]"
            ]
          },
          "execution_count": 54,
          "metadata": {},
          "output_type": "execute_result"
        }
      ],
      "source": [
        "whole_data = df.drop(columns=['id', 'imdb_id', 'original_title', 'cast', 'tagline', 'keywords', 'overview', 'homepage', 'director',\n",
        "                'genres', 'production_companies', 'release_date','vote_count', 'vote_average','budget_adj',\n",
        "                'revenue_adj']).copy()\n",
        "whole_data.head()"
      ]
    },
    {
      "cell_type": "code",
      "execution_count": 55,
      "metadata": {},
      "outputs": [
        {
          "data": {
            "text/plain": [
              "Index(['popularity', 'budget', 'revenue', 'runtime', 'release_year', 'score',\n",
              "       'release_month', 'Crime', 'Documentary', 'Fantasy', 'Science Fiction',\n",
              "       'History', 'Comedy', 'Action', 'None', 'Thriller', 'Horror', 'War',\n",
              "       'Western', 'Foreign', 'Family', 'TV Movie', 'Adventure', 'Drama',\n",
              "       'Animation', 'Romance', 'Music', 'Mystery', 'director_popularity'],\n",
              "      dtype='object')"
            ]
          },
          "execution_count": 55,
          "metadata": {},
          "output_type": "execute_result"
        }
      ],
      "source": [
        "whole_data.columns"
      ]
    },
    {
      "cell_type": "code",
      "execution_count": 56,
      "metadata": {},
      "outputs": [],
      "source": [
        "target = whole_data[['score']]\n",
        "whole_data = whole_data.drop([\"score\"],axis=1)"
      ]
    },
    {
      "cell_type": "code",
      "execution_count": 57,
      "metadata": {},
      "outputs": [
        {
          "name": "stdout",
          "output_type": "stream",
          "text": [
            "<class 'pandas.core.frame.DataFrame'>\n",
            "Int64Index: 10865 entries, 0 to 10865\n",
            "Data columns (total 28 columns):\n",
            " #   Column               Non-Null Count  Dtype  \n",
            "---  ------               --------------  -----  \n",
            " 0   popularity           10865 non-null  float64\n",
            " 1   budget               10865 non-null  int64  \n",
            " 2   revenue              10865 non-null  int64  \n",
            " 3   runtime              10865 non-null  int64  \n",
            " 4   release_year         10865 non-null  int64  \n",
            " 5   release_month        10865 non-null  int64  \n",
            " 6   Crime                10865 non-null  int64  \n",
            " 7   Documentary          10865 non-null  int64  \n",
            " 8   Fantasy              10865 non-null  int64  \n",
            " 9   Science Fiction      10865 non-null  int64  \n",
            " 10  History              10865 non-null  int64  \n",
            " 11  Comedy               10865 non-null  int64  \n",
            " 12  Action               10865 non-null  int64  \n",
            " 13  None                 10865 non-null  int64  \n",
            " 14  Thriller             10865 non-null  int64  \n",
            " 15  Horror               10865 non-null  int64  \n",
            " 16  War                  10865 non-null  int64  \n",
            " 17  Western              10865 non-null  int64  \n",
            " 18  Foreign              10865 non-null  int64  \n",
            " 19  Family               10865 non-null  int64  \n",
            " 20  TV Movie             10865 non-null  int64  \n",
            " 21  Adventure            10865 non-null  int64  \n",
            " 22  Drama                10865 non-null  int64  \n",
            " 23  Animation            10865 non-null  int64  \n",
            " 24  Romance              10865 non-null  int64  \n",
            " 25  Music                10865 non-null  int64  \n",
            " 26  Mystery              10865 non-null  int64  \n",
            " 27  director_popularity  10865 non-null  float64\n",
            "dtypes: float64(2), int64(26)\n",
            "memory usage: 2.7 MB\n"
          ]
        }
      ],
      "source": [
        "whole_data.info()"
      ]
    },
    {
      "cell_type": "code",
      "execution_count": 58,
      "metadata": {},
      "outputs": [
        {
          "data": {
            "text/plain": [
              "popularity             0\n",
              "budget                 0\n",
              "revenue                0\n",
              "runtime                0\n",
              "release_year           0\n",
              "release_month          0\n",
              "Crime                  0\n",
              "Documentary            0\n",
              "Fantasy                0\n",
              "Science Fiction        0\n",
              "History                0\n",
              "Comedy                 0\n",
              "Action                 0\n",
              "None                   0\n",
              "Thriller               0\n",
              "Horror                 0\n",
              "War                    0\n",
              "Western                0\n",
              "Foreign                0\n",
              "Family                 0\n",
              "TV Movie               0\n",
              "Adventure              0\n",
              "Drama                  0\n",
              "Animation              0\n",
              "Romance                0\n",
              "Music                  0\n",
              "Mystery                0\n",
              "director_popularity    0\n",
              "dtype: int64"
            ]
          },
          "execution_count": 58,
          "metadata": {},
          "output_type": "execute_result"
        }
      ],
      "source": [
        "whole_data.isna().sum()"
      ]
    },
    {
      "cell_type": "markdown",
      "metadata": {},
      "source": [
        "Let's use first a baseline to use for comparison with models that I am going to use"
      ]
    },
    {
      "cell_type": "code",
      "execution_count": 59,
      "metadata": {},
      "outputs": [],
      "source": [
        "from sklearn.linear_model import LinearRegression\n",
        "# get the locations\n",
        "from sklearn.model_selection import train_test_split \n",
        "xtrain, xval, ytrain, yval = train_test_split(whole_data, target, test_size=0.2, random_state=42)"
      ]
    },
    {
      "cell_type": "code",
      "execution_count": 60,
      "metadata": {},
      "outputs": [],
      "source": [
        "avg_score =  np.mean(yval)[0]\n",
        "preds = [avg_score] * len(yval)"
      ]
    },
    {
      "cell_type": "markdown",
      "metadata": {},
      "source": [
        "### using avg revenue as a baseline"
      ]
    },
    {
      "cell_type": "code",
      "execution_count": 61,
      "metadata": {},
      "outputs": [
        {
          "data": {
            "text/plain": [
              "2.0390087034068185"
            ]
          },
          "execution_count": 61,
          "metadata": {},
          "output_type": "execute_result"
        }
      ],
      "source": [
        "mse_avg = np.square(np.subtract(preds,yval['score'].values)).mean()\n",
        "mse_avg\n"
      ]
    },
    {
      "cell_type": "markdown",
      "metadata": {},
      "source": [
        "### Using Decision Tree Regressor to predict Score"
      ]
    },
    {
      "cell_type": "code",
      "execution_count": 62,
      "metadata": {},
      "outputs": [],
      "source": [
        "from sklearn.tree import DecisionTreeRegressor"
      ]
    },
    {
      "cell_type": "code",
      "execution_count": 63,
      "metadata": {},
      "outputs": [
        {
          "data": {
            "text/plain": [
              "DecisionTreeRegressor(max_depth=50)"
            ]
          },
          "execution_count": 63,
          "metadata": {},
          "output_type": "execute_result"
        }
      ],
      "source": [
        "model = DecisionTreeRegressor(max_depth=50)\n",
        "model.fit(xtrain, ytrain)"
      ]
    },
    {
      "cell_type": "code",
      "execution_count": 64,
      "metadata": {},
      "outputs": [
        {
          "data": {
            "text/plain": [
              "array([5.28744186, 3.42857143, 5.55604396, ..., 4.45510204, 5.06      ,\n",
              "       4.74117647])"
            ]
          },
          "execution_count": 64,
          "metadata": {},
          "output_type": "execute_result"
        }
      ],
      "source": [
        "ypred_val = model.predict(xval)\n",
        "ypred_val"
      ]
    },
    {
      "cell_type": "code",
      "execution_count": 65,
      "metadata": {},
      "outputs": [
        {
          "data": {
            "text/plain": [
              "0.19813727812422732"
            ]
          },
          "execution_count": 65,
          "metadata": {},
          "output_type": "execute_result"
        }
      ],
      "source": [
        "mse_dt = np.square(np.subtract(ypred_val,yval['score'].values)).mean()\n",
        "1 - mse_dt/mse_avg"
      ]
    },
    {
      "cell_type": "code",
      "execution_count": 66,
      "metadata": {},
      "outputs": [
        {
          "data": {
            "text/plain": [
              "0.19813727812422743"
            ]
          },
          "execution_count": 66,
          "metadata": {},
          "output_type": "execute_result"
        }
      ],
      "source": [
        "from sklearn.metrics import r2_score\n",
        "\n",
        "r2_score(yval['score'].values, ypred_val)"
      ]
    },
    {
      "cell_type": "code",
      "execution_count": 67,
      "metadata": {},
      "outputs": [
        {
          "data": {
            "text/plain": [
              "{1: 0.3876602036845075,\n",
              " 2: 0.45441602806896775,\n",
              " 3: 0.5041434890534071,\n",
              " 4: 0.5323244388272995,\n",
              " 5: 0.5538913469336744,\n",
              " 6: 0.5695272279951133,\n",
              " 7: 0.5673135098488518,\n",
              " 8: 0.5600198631699265,\n",
              " 9: 0.5453294749514195}"
            ]
          },
          "execution_count": 67,
          "metadata": {},
          "output_type": "execute_result"
        }
      ],
      "source": [
        "max_depth_grid = np.arange(start=1, stop=10, step=1)\n",
        "\n",
        "param_select = {}\n",
        "for step in max_depth_grid:\n",
        "    model = DecisionTreeRegressor(max_depth=step)\n",
        "    model.fit(xtrain, ytrain)\n",
        "    ypred_val = model.predict(xval)\n",
        "    param_select[step] = r2_score(yval['score'].values, ypred_val)\n",
        "param_select\n",
        "    "
      ]
    },
    {
      "cell_type": "code",
      "execution_count": 68,
      "metadata": {},
      "outputs": [
        {
          "data": {
            "text/plain": [
              "[<matplotlib.lines.Line2D at 0x24dd707a370>]"
            ]
          },
          "execution_count": 68,
          "metadata": {},
          "output_type": "execute_result"
        },
        {
          "data": {
            "image/png": "[encoded data removed]",
            "text/plain": [
              "<Figure size 432x288 with 1 Axes>"
            ]
          },
          "metadata": {
            "needs_background": "light"
          },
          "output_type": "display_data"
        }
      ],
      "source": [
        "plt.plot(list(param_select.keys()), list(param_select.values()) )"
      ]
    },
    {
      "cell_type": "code",
      "execution_count": 69,
      "metadata": {},
      "outputs": [
        {
          "name": "stdout",
          "output_type": "stream",
          "text": [
            "0.571280599553039\n"
          ]
        }
      ],
      "source": [
        "# running model by using the best maximum depth parameter = 4\n",
        "best_param = 6\n",
        "model = DecisionTreeRegressor(max_depth=best_param)\n",
        "model.fit(xtrain, ytrain)\n",
        "ypred_val = model.predict(xval)\n",
        "print(r2_score(yval['score'].values, ypred_val))"
      ]
    },
    {
      "cell_type": "code",
      "execution_count": 85,
      "metadata": {},
      "outputs": [
        {
          "name": "stdout",
          "output_type": "stream",
          "text": [
            "Feature: 0, Score: 0.54301\n",
            "Feature: 1, Score: 0.03069\n",
            "Feature: 2, Score: 0.08714\n",
            "Feature: 3, Score: 0.08697\n",
            "Feature: 4, Score: 0.06344\n",
            "Feature: 5, Score: 0.03880\n",
            "Feature: 6, Score: 0.00520\n",
            "Feature: 7, Score: 0.01552\n",
            "Feature: 8, Score: 0.00355\n",
            "Feature: 9, Score: 0.00601\n",
            "Feature: 10, Score: 0.00194\n",
            "Feature: 11, Score: 0.00882\n",
            "Feature: 12, Score: 0.00810\n",
            "Feature: 13, Score: 0.00000\n",
            "Feature: 14, Score: 0.00621\n",
            "Feature: 15, Score: 0.00833\n",
            "Feature: 16, Score: 0.00129\n",
            "Feature: 17, Score: 0.00099\n",
            "Feature: 18, Score: 0.00166\n",
            "Feature: 19, Score: 0.00456\n",
            "Feature: 20, Score: 0.00155\n",
            "Feature: 21, Score: 0.00537\n",
            "Feature: 22, Score: 0.01270\n",
            "Feature: 23, Score: 0.00564\n",
            "Feature: 24, Score: 0.00663\n",
            "Feature: 25, Score: 0.00353\n",
            "Feature: 26, Score: 0.00357\n",
            "Feature: 27, Score: 0.03876\n"
          ]
        },
        {
          "data": {
            "image/png": "[encoded data removed]",
            "text/plain": [
              "<Figure size 1080x432 with 1 Axes>"
            ]
          },
          "metadata": {
            "needs_background": "light"
          },
          "output_type": "display_data"
        }
      ],
      "source": [
        "# finding the important features using feature importance\n",
        "# get importance\n",
        "importance = model.feature_importances_\n",
        "# summarize feature importance\n",
        "for i,v in enumerate(importance):\n",
        "\tprint('Feature: %0d, Score: %.5f' % (i,v))\n",
        "# plot feature importance\n",
        "plt.figure(figsize=(15,6))\n",
        "plt.bar([x for x in xtrain.columns], importance)\n",
        "plt.xticks(rotation=45) \n",
        "plt.show()"
      ]
    },
    {
      "cell_type": "markdown",
      "metadata": {},
      "source": [
        "### Random Forest Regression to predict the score"
      ]
    },
    {
      "cell_type": "code",
      "execution_count": 71,
      "metadata": {},
      "outputs": [
        {
          "name": "stderr",
          "output_type": "stream",
          "text": [
            "C:\\Users\\muham\\AppData\\Local\\Temp/ipykernel_12464/2718854054.py:3: DataConversionWarning: A column-vector y was passed when a 1d array was expected. Please change the shape of y to (n_samples,), for example using ravel().\n",
            "  RFReg.fit(xtrain, ytrain)\n"
          ]
        },
        {
          "data": {
            "text/plain": [
              "RandomForestRegressor(random_state=42)"
            ]
          },
          "execution_count": 71,
          "metadata": {},
          "output_type": "execute_result"
        }
      ],
      "source": [
        "from sklearn.ensemble import RandomForestRegressor\n",
        "RFReg = RandomForestRegressor(n_estimators= 100, random_state= 42)\n",
        "RFReg.fit(xtrain, ytrain)"
      ]
    },
    {
      "cell_type": "code",
      "execution_count": 72,
      "metadata": {},
      "outputs": [
        {
          "data": {
            "text/plain": [
              "array([5.60052499, 4.69712083, 5.23774844, ..., 4.96957056, 4.31525755,\n",
              "       4.89078534])"
            ]
          },
          "execution_count": 72,
          "metadata": {},
          "output_type": "execute_result"
        }
      ],
      "source": [
        "RFReg_ypred = RFReg.predict(xval)\n",
        "RFReg_ypred"
      ]
    },
    {
      "cell_type": "code",
      "execution_count": 73,
      "metadata": {},
      "outputs": [
        {
          "data": {
            "text/plain": [
              "0.6108549227423048"
            ]
          },
          "execution_count": 73,
          "metadata": {},
          "output_type": "execute_result"
        }
      ],
      "source": [
        "r2_score(yval['score'].values, RFReg_ypred)"
      ]
    },
    {
      "cell_type": "code",
      "execution_count": 74,
      "metadata": {},
      "outputs": [
        {
          "name": "stderr",
          "output_type": "stream",
          "text": [
            "C:\\Users\\muham\\AppData\\Local\\Temp/ipykernel_12464/1441054340.py:6: DataConversionWarning: A column-vector y was passed when a 1d array was expected. Please change the shape of y to (n_samples,), for example using ravel().\n",
            "  model.fit(xtrain, ytrain)\n",
            "C:\\Users\\muham\\AppData\\Local\\Temp/ipykernel_12464/1441054340.py:6: DataConversionWarning: A column-vector y was passed when a 1d array was expected. Please change the shape of y to (n_samples,), for example using ravel().\n",
            "  model.fit(xtrain, ytrain)\n",
            "C:\\Users\\muham\\AppData\\Local\\Temp/ipykernel_12464/1441054340.py:6: DataConversionWarning: A column-vector y was passed when a 1d array was expected. Please change the shape of y to (n_samples,), for example using ravel().\n",
            "  model.fit(xtrain, ytrain)\n",
            "C:\\Users\\muham\\AppData\\Local\\Temp/ipykernel_12464/1441054340.py:6: DataConversionWarning: A column-vector y was passed when a 1d array was expected. Please change the shape of y to (n_samples,), for example using ravel().\n",
            "  model.fit(xtrain, ytrain)\n",
            "C:\\Users\\muham\\AppData\\Local\\Temp/ipykernel_12464/1441054340.py:6: DataConversionWarning: A column-vector y was passed when a 1d array was expected. Please change the shape of y to (n_samples,), for example using ravel().\n",
            "  model.fit(xtrain, ytrain)\n",
            "C:\\Users\\muham\\AppData\\Local\\Temp/ipykernel_12464/1441054340.py:6: DataConversionWarning: A column-vector y was passed when a 1d array was expected. Please change the shape of y to (n_samples,), for example using ravel().\n",
            "  model.fit(xtrain, ytrain)\n",
            "C:\\Users\\muham\\AppData\\Local\\Temp/ipykernel_12464/1441054340.py:6: DataConversionWarning: A column-vector y was passed when a 1d array was expected. Please change the shape of y to (n_samples,), for example using ravel().\n",
            "  model.fit(xtrain, ytrain)\n",
            "C:\\Users\\muham\\AppData\\Local\\Temp/ipykernel_12464/1441054340.py:6: DataConversionWarning: A column-vector y was passed when a 1d array was expected. Please change the shape of y to (n_samples,), for example using ravel().\n",
            "  model.fit(xtrain, ytrain)\n"
          ]
        },
        {
          "data": {
            "text/plain": [
              "{100: 0.6108549227423048,\n",
              " 150: 0.6130086602717071,\n",
              " 200: 0.6129106028110025,\n",
              " 250: 0.6137146812345295,\n",
              " 300: 0.6141784337275906,\n",
              " 350: 0.6151000487680045,\n",
              " 400: 0.6147724218363511,\n",
              " 450: 0.6143783269484804}"
            ]
          },
          "execution_count": 74,
          "metadata": {},
          "output_type": "execute_result"
        }
      ],
      "source": [
        "max_depth_grid = np.arange(start=100, stop=500, step=50)\n",
        "\n",
        "param_select = {}\n",
        "for step in max_depth_grid:\n",
        "    model = RandomForestRegressor(n_estimators= step, random_state= 42)\n",
        "    model.fit(xtrain, ytrain)\n",
        "    ypred_val = model.predict(xval)\n",
        "    param_select[step] = r2_score(yval['score'].values, ypred_val)\n",
        "param_select\n",
        "    "
      ]
    },
    {
      "cell_type": "code",
      "execution_count": 76,
      "metadata": {},
      "outputs": [
        {
          "data": {
            "text/plain": [
              "[<matplotlib.lines.Line2D at 0x24df0e85fa0>]"
            ]
          },
          "execution_count": 76,
          "metadata": {},
          "output_type": "execute_result"
        },
        {
          "data": {
            "image/png": "[encoded data removed]",
            "text/plain": [
              "<Figure size 432x288 with 1 Axes>"
            ]
          },
          "metadata": {
            "needs_background": "light"
          },
          "output_type": "display_data"
        }
      ],
      "source": [
        "plt.plot(list(param_select.keys()), list(param_select.values()) )"
      ]
    },
    {
      "cell_type": "code",
      "execution_count": 77,
      "metadata": {},
      "outputs": [
        {
          "name": "stderr",
          "output_type": "stream",
          "text": [
            "C:\\Users\\muham\\AppData\\Local\\Temp/ipykernel_12464/3475011085.py:4: DataConversionWarning: A column-vector y was passed when a 1d array was expected. Please change the shape of y to (n_samples,), for example using ravel().\n",
            "  model.fit(xtrain, ytrain)\n"
          ]
        },
        {
          "name": "stdout",
          "output_type": "stream",
          "text": [
            "0.6151000487680045\n"
          ]
        }
      ],
      "source": [
        "# running model by using the best maximum depth parameter = 4\n",
        "best_param = 350\n",
        "model = RandomForestRegressor(n_estimators= best_param, random_state= 42)\n",
        "model.fit(xtrain, ytrain)\n",
        "ypred_val = model.predict(xval)\n",
        "print(r2_score(yval['score'].values, ypred_val))"
      ]
    },
    {
      "cell_type": "code",
      "execution_count": 84,
      "metadata": {},
      "outputs": [
        {
          "name": "stdout",
          "output_type": "stream",
          "text": [
            "Feature: 0, Score: 0.54301\n",
            "Feature: 1, Score: 0.03069\n",
            "Feature: 2, Score: 0.08714\n",
            "Feature: 3, Score: 0.08697\n",
            "Feature: 4, Score: 0.06344\n",
            "Feature: 5, Score: 0.03880\n",
            "Feature: 6, Score: 0.00520\n",
            "Feature: 7, Score: 0.01552\n",
            "Feature: 8, Score: 0.00355\n",
            "Feature: 9, Score: 0.00601\n",
            "Feature: 10, Score: 0.00194\n",
            "Feature: 11, Score: 0.00882\n",
            "Feature: 12, Score: 0.00810\n",
            "Feature: 13, Score: 0.00000\n",
            "Feature: 14, Score: 0.00621\n",
            "Feature: 15, Score: 0.00833\n",
            "Feature: 16, Score: 0.00129\n",
            "Feature: 17, Score: 0.00099\n",
            "Feature: 18, Score: 0.00166\n",
            "Feature: 19, Score: 0.00456\n",
            "Feature: 20, Score: 0.00155\n",
            "Feature: 21, Score: 0.00537\n",
            "Feature: 22, Score: 0.01270\n",
            "Feature: 23, Score: 0.00564\n",
            "Feature: 24, Score: 0.00663\n",
            "Feature: 25, Score: 0.00353\n",
            "Feature: 26, Score: 0.00357\n",
            "Feature: 27, Score: 0.03876\n"
          ]
        },
        {
          "data": {
            "image/png": "[encoded data removed]",
            "text/plain": [
              "<Figure size 1080x432 with 1 Axes>"
            ]
          },
          "metadata": {
            "needs_background": "light"
          },
          "output_type": "display_data"
        }
      ],
      "source": [
        "# finding the important features using feature importance\n",
        "# get importance\n",
        "importance = model.feature_importances_\n",
        "# summarize feature importance\n",
        "for i,v in enumerate(importance):\n",
        "\tprint('Feature: %0d, Score: %.5f' % (i,v))\n",
        "# plot feature importance\n",
        "plt.figure(figsize=(15,6))\n",
        "plt.bar([x for x in xtrain.columns], importance)\n",
        "plt.xticks(rotation=45) \n",
        "plt.show()"
      ]
    },
    {
      "cell_type": "markdown",
      "metadata": {},
      "source": [
        "### Research Question 5  (How does Runtime and Budget affect Profit)?"
      ]
    },
    {
      "cell_type": "code",
      "execution_count": 87,
      "metadata": {},
      "outputs": [],
      "source": [
        "import seaborn as sns"
      ]
    },
    {
      "cell_type": "code",
      "execution_count": 88,
      "metadata": {},
      "outputs": [
        {
          "name": "stdout",
          "output_type": "stream",
          "text": [
            "Number of columns=0 in budget: 4900\n",
            "Number of columns=0 in revenue: 5161\n",
            "Correlation Between Revenue And Profit :  0.5356025927832878\n"
          ]
        },
        {
          "data": {
            "image/png": "[encoded data removed]",
            "text/plain": [
              "<Figure size 1080x432 with 1 Axes>"
            ]
          },
          "metadata": {},
          "output_type": "display_data"
        }
      ],
      "source": [
        "#checking data consistency for zero values \n",
        "print(\"Number of columns=0 in budget:\",q_movies[(q_movies['budget']==0)].shape[0])\n",
        "print(\"Number of columns=0 in revenue:\",q_movies[(q_movies['revenue']==0)].shape[0])\n",
        "#this will lead to incorrect calculation as the number of 0 is huge and doesn't make sense.\n",
        "#it might mean the movie was never released or never sold, which isn't realistic. apply NAAN\n",
        "\n",
        "#define a new column for profit\n",
        "q_movies['profit'] = q_movies['revenue'] - q_movies['budget']\n",
        "\n",
        "#scatter regplot for profit vs. budget\n",
        "ax = sns.regplot(x=q_movies['profit'], y=q_movies['budget'],color='c')\n",
        "\n",
        "#stitle and labels\n",
        "ax.set_title(\"Profit Vs Budget\",fontsize=15)\n",
        "ax.set_xlabel(\"Profit\",fontsize=14)\n",
        "ax.set_ylabel(\"Budget\",fontsize=14)\n",
        "#figure size\n",
        "sns.set(rc={'figure.figsize':(8,5)})\n",
        "sns.set_style(\"whitegrid\")\n",
        "\n",
        "#correlation of attributes\n",
        "#deal with Zero cells into NAN .\n",
        "q_movies['budget'] = q_movies['budget'].replace(0,np.NAN)\n",
        "q_movies['revenue'] = q_movies['revenue'].replace(0,np.NAN)\n",
        "q_movies['profit'] = q_movies['profit'].replace(0,np.NAN)\n",
        "\n",
        "#finally the correlation is ...\n",
        "\n",
        "data_correlation = q_movies.corr()\n",
        "print(\"Correlation Between Revenue And Profit : \",data_correlation.loc['profit','budget'])"
      ]
    },
    {
      "cell_type": "code",
      "execution_count": 90,
      "metadata": {},
      "outputs": [
        {
          "name": "stdout",
          "output_type": "stream",
          "text": [
            "Number of columns=0 in runtime: 24\n",
            "Number of columns=0 in profit: 0\n",
            "Correlation Between RunTime And Profit :  0.18359137805596415\n"
          ]
        },
        {
          "data": {
            "image/png": "[encoded data removed]",
            "text/plain": [
              "<Figure size 576x360 with 1 Axes>"
            ]
          },
          "metadata": {},
          "output_type": "display_data"
        }
      ],
      "source": [
        "#checking data consistency for zero values \n",
        "print(\"Number of columns=0 in runtime:\",q_movies[(q_movies['runtime']==0)].shape[0])\n",
        "print(\"Number of columns=0 in profit:\",q_movies[(q_movies['profit']==0)].shape[0])\n",
        "#apply NAAN\n",
        "\n",
        "\n",
        "#scatter regplot for profit vs. runtime\n",
        "ax = sns.regplot(x=q_movies['profit'], y=q_movies['runtime'],color='c')\n",
        "\n",
        "#stitle and labels\n",
        "ax.set_title(\"Profit Vs RunTime\",fontsize=15)\n",
        "ax.set_xlabel(\"Profit\",fontsize=14)\n",
        "ax.set_ylabel(\"Runtime\",fontsize=14)\n",
        "#figure size\n",
        "sns.set(rc={'figure.figsize':(8,5)})\n",
        "sns.set_style(\"whitegrid\")\n",
        "\n",
        "#correlation of attributes\n",
        "#deal with Zero cells into NAN .\n",
        "q_movies['runtime'] = q_movies['runtime'].replace(0,np.NAN)\n",
        "\n",
        "\n",
        "#find the correlation using 'corr()' function.\n",
        "\n",
        "data_correlation = q_movies.corr()\n",
        "print(\"Correlation Between RunTime And Profit : \",data_correlation.loc['profit','runtime'])"
      ]
    },
    {
      "cell_type": "markdown",
      "metadata": {},
      "source": [
        "#### Recommend the best month to release a movie for higher Revenue/profit?"
      ]
    },
    {
      "cell_type": "code",
      "execution_count": 91,
      "metadata": {},
      "outputs": [
        {
          "data": {
            "image/png": "[encoded data removed]",
            "text/plain": [
              "<Figure size 576x432 with 1 Axes>"
            ]
          },
          "metadata": {},
          "output_type": "display_data"
        }
      ],
      "source": [
        "#extract the month number from the release date.\n",
        "date =pd.to_datetime(q_movies['release_date'], errors='coerce')\n",
        "month_release = pd.DataFrame(date.dt.month)\n",
        "\n",
        "#rename new dataframe 'month_release'.\n",
        "month_release.rename(columns = {'release_date':'release_month'},inplace=True)\n",
        "#create a column 'revenue' in the new df.\n",
        "month_release['revenue'] = q_movies['revenue']\n",
        "\n",
        "#grouping data by month and calculating the corresponding revenue avg.\n",
        "mean_revenue  = month_release.groupby('release_month').mean()\n",
        "\n",
        "mean_revenue['ID']= np.arange(1,13)\n",
        "mean_revenue.set_index('ID')\n",
        "mean_revenue\n",
        "#bar plot.\n",
        "mean_revenue.plot(x='ID',kind='bar',figsize = (8,6),fontsize=11)\n",
        "\n",
        "# title and lables\n",
        "plt.title('Avg revenue per month',fontsize = 16)\n",
        "plt.xlabel('Month',fontsize = 14)\n",
        "plt.ylabel('Avg Revenue',fontsize = 14)\n",
        "sns.set_style(\"whitegrid\")"
      ]
    },
    {
      "cell_type": "markdown",
      "metadata": {},
      "source": [
        "### Research Question 6  (What attributes result in higher revenue/profit)?"
      ]
    },
    {
      "cell_type": "code",
      "execution_count": 92,
      "metadata": {},
      "outputs": [],
      "source": [
        "#defining corrrelation map as a heatmap\n",
        "def plot_correlation_map( df ):\n",
        "    corr = df.corr()\n",
        "    _ , ax = plt.subplots( figsize =( 13 , 11 ) )\n",
        "    cmap = sns.diverging_palette( 250 , 10 , as_cmap = True )\n",
        "    _ = sns.heatmap(corr,cmap = cmap,square=True, cbar_kws={ 'shrink' : .8 }, ax=ax, annot = True, annot_kws = { 'fontsize' : 13 })"
      ]
    },
    {
      "cell_type": "code",
      "execution_count": 93,
      "metadata": {},
      "outputs": [
        {
          "data": {
            "image/png": "[encoded data removed]",
            "text/plain": [
              "<Figure size 936x792 with 2 Axes>"
            ]
          },
          "metadata": {},
          "output_type": "display_data"
        }
      ],
      "source": [
        "plot_correlation_map(q_movies[['popularity','budget','revenue','runtime','vote_count','vote_average']])"
      ]
    },
    {
      "cell_type": "markdown",
      "metadata": {
        "id": "vu1TKSTPBX2E"
      },
      "source": [
        "<a id='conclusions'></a>\n",
        "## Conclusions\n",
        "\n",
        "The questions answered in the report provided the top 10 movies in all time some of which matches the real top 10 movies on Imdb page.\n",
        "\n",
        "The second question answered is actually more interesting than the first one. I analyzed the data to find the most popular genres across the whole dataset. The problem was that most of the movies contained more than one genre. I used string cutting to seperate the different genres and analyze all. The findings was fascinating. The results showed that Drama is the most popular genre of all time. That means that a movie will have a higher popularity to be sold if it had the genre Drama in it.\n",
        "\n",
        "### Limitations\n",
        "One of the limitations in the second questions was the necessaty to seperate the genres tag into more genres. this showed alot of effort to make it correctly, but eventually I got it right. "
      ]
    },
    {
      "cell_type": "code",
      "execution_count": 89,
      "metadata": {
        "collapsed": true,
        "id": "XAPpHPbsBX2J"
      },
      "outputs": [
        {
          "data": {
            "text/plain": [
              "1"
            ]
          },
          "execution_count": 89,
          "metadata": {},
          "output_type": "execute_result"
        }
      ],
      "source": [
        "from subprocess import call\n",
        "call(['python', '-m', 'nbconvert', 'Investigate_a_Dataset.ipynb'])"
      ]
    }
  ],
  "metadata": {
    "colab": {
      "collapsed_sections": [
        "FPjjX9ykBX1Y"
      ],
      "name": "1.ipynb",
      "provenance": []
    },
    "interpreter": {
      "hash": "0faf0caea156738b4f8c40a1c64eaea5c3e20b40276322d723ed7495dd0edf64"
    },
    "kernelspec": {
      "display_name": "Python 3.7.6 64-bit ('data_analysis': conda)",
      "name": "python3"
    },
    "language_info": {
      "codemirror_mode": {
        "name": "ipython",
        "version": 3
      },
      "file_extension": ".py",
      "mimetype": "text/x-python",
      "name": "python",
      "nbconvert_exporter": "python",
      "pygments_lexer": "ipython3",
      "version": "3.8.12"
    }
  },
  "nbformat": 4,
  "nbformat_minor": 2
}
